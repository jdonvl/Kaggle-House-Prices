{
 "cells": [
  {
   "cell_type": "code",
   "execution_count": 0,
   "metadata": {
    "application/vnd.databricks.v1+cell": {
     "inputWidgets": {},
     "nuid": "1e8717f5-36fd-4491-854a-61a5fda96378",
     "showTitle": false,
     "title": ""
    }
   },
   "outputs": [
    {
     "data": {
      "text/html": [
       "<style scoped>\n",
       "  .table-result-container {\n",
       "    max-height: 300px;\n",
       "    overflow: auto;\n",
       "  }\n",
       "  table, th, td {\n",
       "    border: 1px solid black;\n",
       "    border-collapse: collapse;\n",
       "  }\n",
       "  th, td {\n",
       "    padding: 5px;\n",
       "  }\n",
       "  th {\n",
       "    text-align: left;\n",
       "  }\n",
       "</style><div class='table-result-container'><table class='table-result'><thead style='background-color: white'><tr><th>path</th><th>name</th><th>size</th></tr></thead><tbody><tr><td>abfss://data@mma2021finch.dfs.core.windows.net/CCCBL_Customer2_DATA.csv</td><td>CCCBL_Customer2_DATA.csv</td><td>40940343</td></tr><tr><td>abfss://data@mma2021finch.dfs.core.windows.net/CCCBL_Customer2_DICTIONARY.csv</td><td>CCCBL_Customer2_DICTIONARY.csv</td><td>1117</td></tr><tr><td>abfss://data@mma2021finch.dfs.core.windows.net/CCCBL_CustomerGroupHierarchy_DICTIONARY.csv</td><td>CCCBL_CustomerGroupHierarchy_DICTIONARY.csv</td><td>318</td></tr><tr><td>abfss://data@mma2021finch.dfs.core.windows.net/CCCBL_Customer_DATA.csv</td><td>CCCBL_Customer_DATA.csv</td><td>52687197</td></tr><tr><td>abfss://data@mma2021finch.dfs.core.windows.net/CCCBL_Customer_DICTIONARY.csv</td><td>CCCBL_Customer_DICTIONARY.csv</td><td>1577</td></tr><tr><td>abfss://data@mma2021finch.dfs.core.windows.net/CCCBL_Material_DATA.csv</td><td>CCCBL_Material_DATA.csv</td><td>393150</td></tr><tr><td>abfss://data@mma2021finch.dfs.core.windows.net/CCCBL_Material_DICTIONARY.csv</td><td>CCCBL_Material_DICTIONARY.csv</td><td>1291</td></tr><tr><td>abfss://data@mma2021finch.dfs.core.windows.net/CCCBL_Shipment_Daily_DATA.csv</td><td>CCCBL_Shipment_Daily_DATA.csv</td><td>5534202975</td></tr><tr><td>abfss://data@mma2021finch.dfs.core.windows.net/CCCBL_Shipment_Daily_DICTIONARY.csv</td><td>CCCBL_Shipment_Daily_DICTIONARY.csv</td><td>622</td></tr><tr><td>abfss://data@mma2021finch.dfs.core.windows.net/CCCBL_Shipments_DATA.csv</td><td>CCCBL_Shipments_DATA.csv</td><td>3649097395</td></tr><tr><td>abfss://data@mma2021finch.dfs.core.windows.net/CCCBL_Shipments_DICTIONARY.csv</td><td>CCCBL_Shipments_DICTIONARY.csv</td><td>578</td></tr><tr><td>abfss://data@mma2021finch.dfs.core.windows.net/Environics-DATA-All_Databses_Merged_Long.csv</td><td>Environics-DATA-All_Databses_Merged_Long.csv</td><td>14348855589</td></tr><tr><td>abfss://data@mma2021finch.dfs.core.windows.net/Environics-DIM-All_Variables_List.csv</td><td>Environics-DIM-All_Variables_List.csv</td><td>573114</td></tr><tr><td>abfss://data@mma2021finch.dfs.core.windows.net/Environics-DIM-All_Variables_TO_All_Merged_Data_Conversion.csv</td><td>Environics-DIM-All_Variables_TO_All_Merged_Data_Conversion.csv</td><td>147498</td></tr><tr><td>abfss://data@mma2021finch.dfs.core.windows.net/Environics-DIM-DAUID_Details_and_Cantroids.csv</td><td>Environics-DIM-DAUID_Details_and_Cantroids.csv</td><td>10601137</td></tr><tr><td>abfss://data@mma2021finch.dfs.core.windows.net/Environics-DIM-SHAPEFILES_BY_DISSEMINATION_AREA/</td><td>Environics-DIM-SHAPEFILES_BY_DISSEMINATION_AREA/</td><td>0</td></tr><tr><td>abfss://data@mma2021finch.dfs.core.windows.net/POS-DATA-STORE_UPC_ALLBANNERS_DICTIONARY.csv</td><td>POS-DATA-STORE_UPC_ALLBANNERS_DICTIONARY.csv</td><td>3938</td></tr><tr><td>abfss://data@mma2021finch.dfs.core.windows.net/POS-DATA-STORE_UPC_FECCOOP_DATA.csv</td><td>POS-DATA-STORE_UPC_FECCOOP_DATA.csv</td><td>858978517</td></tr><tr><td>abfss://data@mma2021finch.dfs.core.windows.net/POS-DATA-STORE_UPC_LCL_DATA.csv</td><td>POS-DATA-STORE_UPC_LCL_DATA.csv</td><td>5013004046</td></tr><tr><td>abfss://data@mma2021finch.dfs.core.windows.net/POS-DATA-STORE_UPC_METRO_DATA.csv</td><td>POS-DATA-STORE_UPC_METRO_DATA.csv</td><td>2464457869</td></tr><tr><td>abfss://data@mma2021finch.dfs.core.windows.net/POS-DATA-STORE_UPC_OW_DATA.csv</td><td>POS-DATA-STORE_UPC_OW_DATA.csv</td><td>1176359032</td></tr><tr><td>abfss://data@mma2021finch.dfs.core.windows.net/POS-DATA-STORE_UPC_SDM_DATA.csv</td><td>POS-DATA-STORE_UPC_SDM_DATA.csv</td><td>2728163636</td></tr><tr><td>abfss://data@mma2021finch.dfs.core.windows.net/POS-DATA-STORE_UPC_SOBEYS._DATA.csv</td><td>POS-DATA-STORE_UPC_SOBEYS._DATA.csv</td><td>6328644061</td></tr><tr><td>abfss://data@mma2021finch.dfs.core.windows.net/POS-DATA-STORE_UPC_WALMART_DATA.csv</td><td>POS-DATA-STORE_UPC_WALMART_DATA.csv</td><td>2120153476</td></tr><tr><td>abfss://data@mma2021finch.dfs.core.windows.net/POS-DIM-BANNER_GROUP_TO_SHIP_MAPPING.csv</td><td>POS-DIM-BANNER_GROUP_TO_SHIP_MAPPING.csv</td><td>7113</td></tr><tr><td>abfss://data@mma2021finch.dfs.core.windows.net/POS-DIM-CALENDAR_DATA.csv</td><td>POS-DIM-CALENDAR_DATA.csv</td><td>7813</td></tr><tr><td>abfss://data@mma2021finch.dfs.core.windows.net/POS-DIM-CALENDAR_DICTIONARY.csv</td><td>POS-DIM-CALENDAR_DICTIONARY.csv</td><td>507</td></tr><tr><td>abfss://data@mma2021finch.dfs.core.windows.net/POS-DIM-INNOVATION_LTO_DELIST.csv</td><td>POS-DIM-INNOVATION_LTO_DELIST.csv</td><td>50219</td></tr><tr><td>abfss://data@mma2021finch.dfs.core.windows.net/POS-DIM-PRODUCTS_DATA.csv</td><td>POS-DIM-PRODUCTS_DATA.csv</td><td>295310</td></tr><tr><td>abfss://data@mma2021finch.dfs.core.windows.net/POS-DIM-PRODUCTS_DICTIONARY.csv</td><td>POS-DIM-PRODUCTS_DICTIONARY.csv</td><td>2785</td></tr><tr><td>abfss://data@mma2021finch.dfs.core.windows.net/POS-DIM-STORES_DATA.csv</td><td>POS-DIM-STORES_DATA.csv</td><td>798370</td></tr><tr><td>abfss://data@mma2021finch.dfs.core.windows.net/POS-DIM-STORE_DICTIONARY.csv</td><td>POS-DIM-STORE_DICTIONARY.csv</td><td>495</td></tr><tr><td>abfss://data@mma2021finch.dfs.core.windows.net/Weather-DATA-Daily_ 2018-2019.csv</td><td>Weather-DATA-Daily_ 2018-2019.csv</td><td>136537290</td></tr><tr><td>abfss://data@mma2021finch.dfs.core.windows.net/Weather-DIM-Flag_Legend.csv</td><td>Weather-DIM-Flag_Legend.csv</td><td>149</td></tr><tr><td>abfss://data@mma2021finch.dfs.core.windows.net/Weather-DIM-Station Inventory EN.csv</td><td>Weather-DIM-Station Inventory EN.csv</td><td>1005318</td></tr><tr><td>abfss://data@mma2021finch.dfs.core.windows.net/lda_000b16a_e.prj</td><td>lda_000b16a_e.prj</td><td>503</td></tr><tr><td>abfss://data@mma2021finch.dfs.core.windows.net/lda_000b16a_e.shx</td><td>lda_000b16a_e.shx</td><td>452812</td></tr></tbody></table></div>"
      ]
     },
     "metadata": {
      "application/vnd.databricks.v1+output": {
       "addedWidgets": {},
       "aggData": [],
       "aggError": "",
       "aggOverflow": false,
       "aggSchema": [],
       "aggSeriesLimitReached": false,
       "aggType": "",
       "arguments": {},
       "columnCustomDisplayInfos": {},
       "data": [
        [
         "abfss://data@mma2021finch.dfs.core.windows.net/CCCBL_Customer2_DATA.csv",
         "CCCBL_Customer2_DATA.csv",
         40940343
        ],
        [
         "abfss://data@mma2021finch.dfs.core.windows.net/CCCBL_Customer2_DICTIONARY.csv",
         "CCCBL_Customer2_DICTIONARY.csv",
         1117
        ],
        [
         "abfss://data@mma2021finch.dfs.core.windows.net/CCCBL_CustomerGroupHierarchy_DICTIONARY.csv",
         "CCCBL_CustomerGroupHierarchy_DICTIONARY.csv",
         318
        ],
        [
         "abfss://data@mma2021finch.dfs.core.windows.net/CCCBL_Customer_DATA.csv",
         "CCCBL_Customer_DATA.csv",
         52687197
        ],
        [
         "abfss://data@mma2021finch.dfs.core.windows.net/CCCBL_Customer_DICTIONARY.csv",
         "CCCBL_Customer_DICTIONARY.csv",
         1577
        ],
        [
         "abfss://data@mma2021finch.dfs.core.windows.net/CCCBL_Material_DATA.csv",
         "CCCBL_Material_DATA.csv",
         393150
        ],
        [
         "abfss://data@mma2021finch.dfs.core.windows.net/CCCBL_Material_DICTIONARY.csv",
         "CCCBL_Material_DICTIONARY.csv",
         1291
        ],
        [
         "abfss://data@mma2021finch.dfs.core.windows.net/CCCBL_Shipment_Daily_DATA.csv",
         "CCCBL_Shipment_Daily_DATA.csv",
         5534202975
        ],
        [
         "abfss://data@mma2021finch.dfs.core.windows.net/CCCBL_Shipment_Daily_DICTIONARY.csv",
         "CCCBL_Shipment_Daily_DICTIONARY.csv",
         622
        ],
        [
         "abfss://data@mma2021finch.dfs.core.windows.net/CCCBL_Shipments_DATA.csv",
         "CCCBL_Shipments_DATA.csv",
         3649097395
        ],
        [
         "abfss://data@mma2021finch.dfs.core.windows.net/CCCBL_Shipments_DICTIONARY.csv",
         "CCCBL_Shipments_DICTIONARY.csv",
         578
        ],
        [
         "abfss://data@mma2021finch.dfs.core.windows.net/Environics-DATA-All_Databses_Merged_Long.csv",
         "Environics-DATA-All_Databses_Merged_Long.csv",
         14348855589
        ],
        [
         "abfss://data@mma2021finch.dfs.core.windows.net/Environics-DIM-All_Variables_List.csv",
         "Environics-DIM-All_Variables_List.csv",
         573114
        ],
        [
         "abfss://data@mma2021finch.dfs.core.windows.net/Environics-DIM-All_Variables_TO_All_Merged_Data_Conversion.csv",
         "Environics-DIM-All_Variables_TO_All_Merged_Data_Conversion.csv",
         147498
        ],
        [
         "abfss://data@mma2021finch.dfs.core.windows.net/Environics-DIM-DAUID_Details_and_Cantroids.csv",
         "Environics-DIM-DAUID_Details_and_Cantroids.csv",
         10601137
        ],
        [
         "abfss://data@mma2021finch.dfs.core.windows.net/Environics-DIM-SHAPEFILES_BY_DISSEMINATION_AREA/",
         "Environics-DIM-SHAPEFILES_BY_DISSEMINATION_AREA/",
         0
        ],
        [
         "abfss://data@mma2021finch.dfs.core.windows.net/POS-DATA-STORE_UPC_ALLBANNERS_DICTIONARY.csv",
         "POS-DATA-STORE_UPC_ALLBANNERS_DICTIONARY.csv",
         3938
        ],
        [
         "abfss://data@mma2021finch.dfs.core.windows.net/POS-DATA-STORE_UPC_FECCOOP_DATA.csv",
         "POS-DATA-STORE_UPC_FECCOOP_DATA.csv",
         858978517
        ],
        [
         "abfss://data@mma2021finch.dfs.core.windows.net/POS-DATA-STORE_UPC_LCL_DATA.csv",
         "POS-DATA-STORE_UPC_LCL_DATA.csv",
         5013004046
        ],
        [
         "abfss://data@mma2021finch.dfs.core.windows.net/POS-DATA-STORE_UPC_METRO_DATA.csv",
         "POS-DATA-STORE_UPC_METRO_DATA.csv",
         2464457869
        ],
        [
         "abfss://data@mma2021finch.dfs.core.windows.net/POS-DATA-STORE_UPC_OW_DATA.csv",
         "POS-DATA-STORE_UPC_OW_DATA.csv",
         1176359032
        ],
        [
         "abfss://data@mma2021finch.dfs.core.windows.net/POS-DATA-STORE_UPC_SDM_DATA.csv",
         "POS-DATA-STORE_UPC_SDM_DATA.csv",
         2728163636
        ],
        [
         "abfss://data@mma2021finch.dfs.core.windows.net/POS-DATA-STORE_UPC_SOBEYS._DATA.csv",
         "POS-DATA-STORE_UPC_SOBEYS._DATA.csv",
         6328644061
        ],
        [
         "abfss://data@mma2021finch.dfs.core.windows.net/POS-DATA-STORE_UPC_WALMART_DATA.csv",
         "POS-DATA-STORE_UPC_WALMART_DATA.csv",
         2120153476
        ],
        [
         "abfss://data@mma2021finch.dfs.core.windows.net/POS-DIM-BANNER_GROUP_TO_SHIP_MAPPING.csv",
         "POS-DIM-BANNER_GROUP_TO_SHIP_MAPPING.csv",
         7113
        ],
        [
         "abfss://data@mma2021finch.dfs.core.windows.net/POS-DIM-CALENDAR_DATA.csv",
         "POS-DIM-CALENDAR_DATA.csv",
         7813
        ],
        [
         "abfss://data@mma2021finch.dfs.core.windows.net/POS-DIM-CALENDAR_DICTIONARY.csv",
         "POS-DIM-CALENDAR_DICTIONARY.csv",
         507
        ],
        [
         "abfss://data@mma2021finch.dfs.core.windows.net/POS-DIM-INNOVATION_LTO_DELIST.csv",
         "POS-DIM-INNOVATION_LTO_DELIST.csv",
         50219
        ],
        [
         "abfss://data@mma2021finch.dfs.core.windows.net/POS-DIM-PRODUCTS_DATA.csv",
         "POS-DIM-PRODUCTS_DATA.csv",
         295310
        ],
        [
         "abfss://data@mma2021finch.dfs.core.windows.net/POS-DIM-PRODUCTS_DICTIONARY.csv",
         "POS-DIM-PRODUCTS_DICTIONARY.csv",
         2785
        ],
        [
         "abfss://data@mma2021finch.dfs.core.windows.net/POS-DIM-STORES_DATA.csv",
         "POS-DIM-STORES_DATA.csv",
         798370
        ],
        [
         "abfss://data@mma2021finch.dfs.core.windows.net/POS-DIM-STORE_DICTIONARY.csv",
         "POS-DIM-STORE_DICTIONARY.csv",
         495
        ],
        [
         "abfss://data@mma2021finch.dfs.core.windows.net/Weather-DATA-Daily_ 2018-2019.csv",
         "Weather-DATA-Daily_ 2018-2019.csv",
         136537290
        ],
        [
         "abfss://data@mma2021finch.dfs.core.windows.net/Weather-DIM-Flag_Legend.csv",
         "Weather-DIM-Flag_Legend.csv",
         149
        ],
        [
         "abfss://data@mma2021finch.dfs.core.windows.net/Weather-DIM-Station Inventory EN.csv",
         "Weather-DIM-Station Inventory EN.csv",
         1005318
        ],
        [
         "abfss://data@mma2021finch.dfs.core.windows.net/lda_000b16a_e.prj",
         "lda_000b16a_e.prj",
         503
        ],
        [
         "abfss://data@mma2021finch.dfs.core.windows.net/lda_000b16a_e.shx",
         "lda_000b16a_e.shx",
         452812
        ]
       ],
       "datasetInfos": [],
       "dbfsResultPath": null,
       "isJsonSchema": true,
       "overflow": false,
       "plotOptions": {
        "customPlotOptions": {},
        "displayType": "table",
        "pivotAggregation": null,
        "pivotColumns": null,
        "xColumns": null,
        "yColumns": null
       },
       "removedWidgets": [],
       "schema": [
        {
         "metadata": "{}",
         "name": "path",
         "type": "\"string\""
        },
        {
         "metadata": "{}",
         "name": "name",
         "type": "\"string\""
        },
        {
         "metadata": "{}",
         "name": "size",
         "type": "\"long\""
        }
       ],
       "type": "table"
      }
     },
     "output_type": "display_data"
    }
   ],
   "source": [
    "# This is the access key for the sample datalake \"ssbdatalakegen2\".\n",
    "\n",
    "spark.conf.set(\n",
    "  \"fs.azure.account.key.mma2021finch.dfs.core.windows.net\",\n",
    "  \"Sd7ZDgMTaj0ogeirYmKP0kP8ibye/ftIajgTgi4Xb1cg0tzn7HysJ4Oa7PA2svQJ0szj4Zm43wMSR8HEXajLdg==\")\n",
    "  \n",
    "# Listing files in data\n",
    "\n",
    "display(dbutils.fs.ls(\"abfss://data@mma2021finch.dfs.core.windows.net/\"))"
   ]
  },
  {
   "cell_type": "markdown",
   "metadata": {
    "application/vnd.databricks.v1+cell": {
     "inputWidgets": {},
     "nuid": "24b3c5cf-f6bf-4f4e-b7d6-fe677f14dcbd",
     "showTitle": false,
     "title": ""
    }
   },
   "source": [
    "abfss://data@mma2021finch.dfs.core.windows.net/POS-DATA-STORE_UPC_FECCOOP_DATA.csv  \n",
    "abfss://data@mma2021finch.dfs.core.windows.net/POS-DATA-STORE_UPC_LCL_DATA.csv  \n",
    "abfss://data@mma2021finch.dfs.core.windows.net/POS-DATA-STORE_UPC_METRO_DATA.csv  \n",
    "abfss://data@mma2021finch.dfs.core.windows.net/POS-DATA-STORE_UPC_OW_DATA.csv  \n",
    "abfss://data@mma2021finch.dfs.core.windows.net/POS-DATA-STORE_UPC_SDM_DATA.csv  \n",
    "abfss://data@mma2021finch.dfs.core.windows.net/POS-DATA-STORE_UPC_SOBEYS._DATA.csv  \n",
    "abfss://data@mma2021finch.dfs.core.windows.net/POS-DATA-STORE_UPC_WALMART_DATA.csv"
   ]
  },
  {
   "cell_type": "code",
   "execution_count": 0,
   "metadata": {
    "application/vnd.databricks.v1+cell": {
     "inputWidgets": {},
     "nuid": "003948c0-7cbe-46ce-a396-ef3bb86c0717",
     "showTitle": false,
     "title": ""
    }
   },
   "outputs": [
    {
     "data": {
      "text/html": [
       "<style scoped>\n",
       "  .ansiout {\n",
       "    display: block;\n",
       "    unicode-bidi: embed;\n",
       "    white-space: pre-wrap;\n",
       "    word-wrap: break-word;\n",
       "    word-break: break-all;\n",
       "    font-family: \"Source Code Pro\", \"Menlo\", monospace;;\n",
       "    font-size: 13px;\n",
       "    color: #555;\n",
       "    margin-left: 4px;\n",
       "    line-height: 19px;\n",
       "  }\n",
       "</style>\n",
       "<div class=\"ansiout\"></div>"
      ]
     },
     "metadata": {
      "application/vnd.databricks.v1+output": {
       "addedWidgets": {},
       "arguments": {},
       "data": "<div class=\"ansiout\"></div>",
       "datasetInfos": [
        {
         "name": "fecoop",
         "schema": {
          "fields": [
           {
            "metadata": {},
            "name": "STORE_NUM",
            "nullable": true,
            "type": "string"
           },
           {
            "metadata": {},
            "name": "UPC",
            "nullable": true,
            "type": "string"
           },
           {
            "metadata": {},
            "name": "SALES",
            "nullable": true,
            "type": "string"
           },
           {
            "metadata": {},
            "name": "UNITS",
            "nullable": true,
            "type": "string"
           },
           {
            "metadata": {},
            "name": "CATEGORY",
            "nullable": true,
            "type": "string"
           },
           {
            "metadata": {},
            "name": "TPO_PRODUCT_NAME",
            "nullable": true,
            "type": "string"
           },
           {
            "metadata": {},
            "name": "TPO_PRODUCT_GROUP",
            "nullable": true,
            "type": "string"
           },
           {
            "metadata": {},
            "name": "SWEETNER",
            "nullable": true,
            "type": "string"
           },
           {
            "metadata": {},
            "name": "TYPE",
            "nullable": true,
            "type": "string"
           },
           {
            "metadata": {},
            "name": "PRODUCT",
            "nullable": true,
            "type": "string"
           },
           {
            "metadata": {},
            "name": "FLAVOUR",
            "nullable": true,
            "type": "string"
           },
           {
            "metadata": {},
            "name": "FV_FEATURE",
            "nullable": true,
            "type": "string"
           },
           {
            "metadata": {},
            "name": "FV_PURCHASE_QUANTITY",
            "nullable": true,
            "type": "string"
           },
           {
            "metadata": {},
            "name": "FV_UNIT_PRICE",
            "nullable": true,
            "type": "string"
           },
           {
            "metadata": {},
            "name": "FV_OFFER",
            "nullable": true,
            "type": "string"
           },
           {
            "metadata": {},
            "name": "FV_OFFER_DETAIL",
            "nullable": true,
            "type": "string"
           },
           {
            "metadata": {},
            "name": "CAL_WEEK_NAME",
            "nullable": true,
            "type": "string"
           },
           {
            "metadata": {},
            "name": "CAL_WEEK_TYPE",
            "nullable": true,
            "type": "string"
           },
           {
            "metadata": {},
            "name": "CAL_TPO_YEAR",
            "nullable": true,
            "type": "string"
           },
           {
            "metadata": {},
            "name": "CAL_TPO_MONTH",
            "nullable": true,
            "type": "string"
           },
           {
            "metadata": {},
            "name": "CAL_TPO_WEEK",
            "nullable": true,
            "type": "string"
           },
           {
            "metadata": {},
            "name": "CAL_TPO_YEAR_WEEK",
            "nullable": true,
            "type": "string"
           },
           {
            "metadata": {},
            "name": "BN_REGION",
            "nullable": true,
            "type": "string"
           },
           {
            "metadata": {},
            "name": "BN_BANNER",
            "nullable": true,
            "type": "string"
           },
           {
            "metadata": {},
            "name": "BN_BANNER_GROUP",
            "nullable": true,
            "type": "string"
           },
           {
            "metadata": {},
            "name": "BN_STORE_CHAIN",
            "nullable": true,
            "type": "string"
           },
           {
            "metadata": {},
            "name": "BN_CHANNEL",
            "nullable": true,
            "type": "string"
           },
           {
            "metadata": {},
            "name": "PK_PACK_TYPE",
            "nullable": true,
            "type": "string"
           },
           {
            "metadata": {},
            "name": "PK_PACK_SUBYPE",
            "nullable": true,
            "type": "string"
           },
           {
            "metadata": {},
            "name": "PK_CATEGORY_SUBTYPE",
            "nullable": true,
            "type": "string"
           }
          ],
          "type": "struct"
         },
         "tableIdentifier": null,
         "typeStr": "pyspark.sql.dataframe.DataFrame"
        },
        {
         "name": "lcl",
         "schema": {
          "fields": [
           {
            "metadata": {},
            "name": "STORE_NUM",
            "nullable": true,
            "type": "string"
           },
           {
            "metadata": {},
            "name": "UPC",
            "nullable": true,
            "type": "string"
           },
           {
            "metadata": {},
            "name": "SALES",
            "nullable": true,
            "type": "string"
           },
           {
            "metadata": {},
            "name": "UNITS",
            "nullable": true,
            "type": "string"
           },
           {
            "metadata": {},
            "name": "CATEGORY",
            "nullable": true,
            "type": "string"
           },
           {
            "metadata": {},
            "name": "TPO_PRODUCT_NAME",
            "nullable": true,
            "type": "string"
           },
           {
            "metadata": {},
            "name": "TPO_PRODUCT_GROUP",
            "nullable": true,
            "type": "string"
           },
           {
            "metadata": {},
            "name": "SWEETNER",
            "nullable": true,
            "type": "string"
           },
           {
            "metadata": {},
            "name": "TYPE",
            "nullable": true,
            "type": "string"
           },
           {
            "metadata": {},
            "name": "PRODUCT",
            "nullable": true,
            "type": "string"
           },
           {
            "metadata": {},
            "name": "FLAVOUR",
            "nullable": true,
            "type": "string"
           },
           {
            "metadata": {},
            "name": "FV_FEATURE",
            "nullable": true,
            "type": "string"
           },
           {
            "metadata": {},
            "name": "FV_PURCHASE_QUANTITY",
            "nullable": true,
            "type": "string"
           },
           {
            "metadata": {},
            "name": "FV_UNIT_PRICE",
            "nullable": true,
            "type": "string"
           },
           {
            "metadata": {},
            "name": "FV_OFFER",
            "nullable": true,
            "type": "string"
           },
           {
            "metadata": {},
            "name": "FV_OFFER_DETAIL",
            "nullable": true,
            "type": "string"
           },
           {
            "metadata": {},
            "name": "CAL_WEEK_NAME",
            "nullable": true,
            "type": "string"
           },
           {
            "metadata": {},
            "name": "CAL_WEEK_TYPE",
            "nullable": true,
            "type": "string"
           },
           {
            "metadata": {},
            "name": "CAL_TPO_YEAR",
            "nullable": true,
            "type": "string"
           },
           {
            "metadata": {},
            "name": "CAL_TPO_MONTH",
            "nullable": true,
            "type": "string"
           },
           {
            "metadata": {},
            "name": "CAL_TPO_WEEK",
            "nullable": true,
            "type": "string"
           },
           {
            "metadata": {},
            "name": "CAL_TPO_YEAR_WEEK",
            "nullable": true,
            "type": "string"
           },
           {
            "metadata": {},
            "name": "BN_REGION",
            "nullable": true,
            "type": "string"
           },
           {
            "metadata": {},
            "name": "BN_BANNER",
            "nullable": true,
            "type": "string"
           },
           {
            "metadata": {},
            "name": "BN_BANNER_GROUP",
            "nullable": true,
            "type": "string"
           },
           {
            "metadata": {},
            "name": "BN_STORE_CHAIN",
            "nullable": true,
            "type": "string"
           },
           {
            "metadata": {},
            "name": "BN_CHANNEL",
            "nullable": true,
            "type": "string"
           },
           {
            "metadata": {},
            "name": "PK_PACK_TYPE",
            "nullable": true,
            "type": "string"
           },
           {
            "metadata": {},
            "name": "PK_PACK_SUBYPE",
            "nullable": true,
            "type": "string"
           },
           {
            "metadata": {},
            "name": "PK_CATEGORY_SUBTYPE",
            "nullable": true,
            "type": "string"
           }
          ],
          "type": "struct"
         },
         "tableIdentifier": null,
         "typeStr": "pyspark.sql.dataframe.DataFrame"
        },
        {
         "name": "metro",
         "schema": {
          "fields": [
           {
            "metadata": {},
            "name": "STORE_NUM",
            "nullable": true,
            "type": "string"
           },
           {
            "metadata": {},
            "name": "UPC",
            "nullable": true,
            "type": "string"
           },
           {
            "metadata": {},
            "name": "SALES",
            "nullable": true,
            "type": "string"
           },
           {
            "metadata": {},
            "name": "UNITS",
            "nullable": true,
            "type": "string"
           },
           {
            "metadata": {},
            "name": "CATEGORY",
            "nullable": true,
            "type": "string"
           },
           {
            "metadata": {},
            "name": "TPO_PRODUCT_NAME",
            "nullable": true,
            "type": "string"
           },
           {
            "metadata": {},
            "name": "TPO_PRODUCT_GROUP",
            "nullable": true,
            "type": "string"
           },
           {
            "metadata": {},
            "name": "SWEETNER",
            "nullable": true,
            "type": "string"
           },
           {
            "metadata": {},
            "name": "TYPE",
            "nullable": true,
            "type": "string"
           },
           {
            "metadata": {},
            "name": "PRODUCT",
            "nullable": true,
            "type": "string"
           },
           {
            "metadata": {},
            "name": "FLAVOUR",
            "nullable": true,
            "type": "string"
           },
           {
            "metadata": {},
            "name": "FV_FEATURE",
            "nullable": true,
            "type": "string"
           },
           {
            "metadata": {},
            "name": "FV_PURCHASE_QUANTITY",
            "nullable": true,
            "type": "string"
           },
           {
            "metadata": {},
            "name": "FV_UNIT_PRICE",
            "nullable": true,
            "type": "string"
           },
           {
            "metadata": {},
            "name": "FV_OFFER",
            "nullable": true,
            "type": "string"
           },
           {
            "metadata": {},
            "name": "FV_OFFER_DETAIL",
            "nullable": true,
            "type": "string"
           },
           {
            "metadata": {},
            "name": "CAL_WEEK_NAME",
            "nullable": true,
            "type": "string"
           },
           {
            "metadata": {},
            "name": "CAL_WEEK_TYPE",
            "nullable": true,
            "type": "string"
           },
           {
            "metadata": {},
            "name": "CAL_TPO_YEAR",
            "nullable": true,
            "type": "string"
           },
           {
            "metadata": {},
            "name": "CAL_TPO_MONTH",
            "nullable": true,
            "type": "string"
           },
           {
            "metadata": {},
            "name": "CAL_TPO_WEEK",
            "nullable": true,
            "type": "string"
           },
           {
            "metadata": {},
            "name": "CAL_TPO_YEAR_WEEK",
            "nullable": true,
            "type": "string"
           },
           {
            "metadata": {},
            "name": "BN_REGION",
            "nullable": true,
            "type": "string"
           },
           {
            "metadata": {},
            "name": "BN_BANNER",
            "nullable": true,
            "type": "string"
           },
           {
            "metadata": {},
            "name": "BN_BANNER_GROUP",
            "nullable": true,
            "type": "string"
           },
           {
            "metadata": {},
            "name": "BN_STORE_CHAIN",
            "nullable": true,
            "type": "string"
           },
           {
            "metadata": {},
            "name": "BN_CHANNEL",
            "nullable": true,
            "type": "string"
           },
           {
            "metadata": {},
            "name": "PK_PACK_TYPE",
            "nullable": true,
            "type": "string"
           },
           {
            "metadata": {},
            "name": "PK_PACK_SUBYPE",
            "nullable": true,
            "type": "string"
           },
           {
            "metadata": {},
            "name": "PK_CATEGORY_SUBTYPE",
            "nullable": true,
            "type": "string"
           }
          ],
          "type": "struct"
         },
         "tableIdentifier": null,
         "typeStr": "pyspark.sql.dataframe.DataFrame"
        },
        {
         "name": "ow",
         "schema": {
          "fields": [
           {
            "metadata": {},
            "name": "STORE_NUM",
            "nullable": true,
            "type": "string"
           },
           {
            "metadata": {},
            "name": "UPC",
            "nullable": true,
            "type": "string"
           },
           {
            "metadata": {},
            "name": "SALES",
            "nullable": true,
            "type": "string"
           },
           {
            "metadata": {},
            "name": "UNITS",
            "nullable": true,
            "type": "string"
           },
           {
            "metadata": {},
            "name": "CATEGORY",
            "nullable": true,
            "type": "string"
           },
           {
            "metadata": {},
            "name": "TPO_PRODUCT_NAME",
            "nullable": true,
            "type": "string"
           },
           {
            "metadata": {},
            "name": "TPO_PRODUCT_GROUP",
            "nullable": true,
            "type": "string"
           },
           {
            "metadata": {},
            "name": "SWEETNER",
            "nullable": true,
            "type": "string"
           },
           {
            "metadata": {},
            "name": "TYPE",
            "nullable": true,
            "type": "string"
           },
           {
            "metadata": {},
            "name": "PRODUCT",
            "nullable": true,
            "type": "string"
           },
           {
            "metadata": {},
            "name": "FLAVOUR",
            "nullable": true,
            "type": "string"
           },
           {
            "metadata": {},
            "name": "FV_FEATURE",
            "nullable": true,
            "type": "string"
           },
           {
            "metadata": {},
            "name": "FV_PURCHASE_QUANTITY",
            "nullable": true,
            "type": "string"
           },
           {
            "metadata": {},
            "name": "FV_UNIT_PRICE",
            "nullable": true,
            "type": "string"
           },
           {
            "metadata": {},
            "name": "FV_OFFER",
            "nullable": true,
            "type": "string"
           },
           {
            "metadata": {},
            "name": "FV_OFFER_DETAIL",
            "nullable": true,
            "type": "string"
           },
           {
            "metadata": {},
            "name": "CAL_WEEK_NAME",
            "nullable": true,
            "type": "string"
           },
           {
            "metadata": {},
            "name": "CAL_WEEK_TYPE",
            "nullable": true,
            "type": "string"
           },
           {
            "metadata": {},
            "name": "CAL_TPO_YEAR",
            "nullable": true,
            "type": "string"
           },
           {
            "metadata": {},
            "name": "CAL_TPO_MONTH",
            "nullable": true,
            "type": "string"
           },
           {
            "metadata": {},
            "name": "CAL_TPO_WEEK",
            "nullable": true,
            "type": "string"
           },
           {
            "metadata": {},
            "name": "CAL_TPO_YEAR_WEEK",
            "nullable": true,
            "type": "string"
           },
           {
            "metadata": {},
            "name": "BN_REGION",
            "nullable": true,
            "type": "string"
           },
           {
            "metadata": {},
            "name": "BN_BANNER",
            "nullable": true,
            "type": "string"
           },
           {
            "metadata": {},
            "name": "BN_BANNER_GROUP",
            "nullable": true,
            "type": "string"
           },
           {
            "metadata": {},
            "name": "BN_STORE_CHAIN",
            "nullable": true,
            "type": "string"
           },
           {
            "metadata": {},
            "name": "BN_CHANNEL",
            "nullable": true,
            "type": "string"
           },
           {
            "metadata": {},
            "name": "PK_PACK_TYPE",
            "nullable": true,
            "type": "string"
           },
           {
            "metadata": {},
            "name": "PK_PACK_SUBYPE",
            "nullable": true,
            "type": "string"
           },
           {
            "metadata": {},
            "name": "PK_CATEGORY_SUBTYPE",
            "nullable": true,
            "type": "string"
           }
          ],
          "type": "struct"
         },
         "tableIdentifier": null,
         "typeStr": "pyspark.sql.dataframe.DataFrame"
        },
        {
         "name": "sdm",
         "schema": {
          "fields": [
           {
            "metadata": {},
            "name": "STORE_NUM",
            "nullable": true,
            "type": "string"
           },
           {
            "metadata": {},
            "name": "UPC",
            "nullable": true,
            "type": "string"
           },
           {
            "metadata": {},
            "name": "SALES",
            "nullable": true,
            "type": "string"
           },
           {
            "metadata": {},
            "name": "UNITS",
            "nullable": true,
            "type": "string"
           },
           {
            "metadata": {},
            "name": "CATEGORY",
            "nullable": true,
            "type": "string"
           },
           {
            "metadata": {},
            "name": "TPO_PRODUCT_NAME",
            "nullable": true,
            "type": "string"
           },
           {
            "metadata": {},
            "name": "TPO_PRODUCT_GROUP",
            "nullable": true,
            "type": "string"
           },
           {
            "metadata": {},
            "name": "SWEETNER",
            "nullable": true,
            "type": "string"
           },
           {
            "metadata": {},
            "name": "TYPE",
            "nullable": true,
            "type": "string"
           },
           {
            "metadata": {},
            "name": "PRODUCT",
            "nullable": true,
            "type": "string"
           },
           {
            "metadata": {},
            "name": "FLAVOUR",
            "nullable": true,
            "type": "string"
           },
           {
            "metadata": {},
            "name": "FV_FEATURE",
            "nullable": true,
            "type": "string"
           },
           {
            "metadata": {},
            "name": "FV_PURCHASE_QUANTITY",
            "nullable": true,
            "type": "string"
           },
           {
            "metadata": {},
            "name": "FV_UNIT_PRICE",
            "nullable": true,
            "type": "string"
           },
           {
            "metadata": {},
            "name": "FV_OFFER",
            "nullable": true,
            "type": "string"
           },
           {
            "metadata": {},
            "name": "FV_OFFER_DETAIL",
            "nullable": true,
            "type": "string"
           },
           {
            "metadata": {},
            "name": "CAL_WEEK_NAME",
            "nullable": true,
            "type": "string"
           },
           {
            "metadata": {},
            "name": "CAL_WEEK_TYPE",
            "nullable": true,
            "type": "string"
           },
           {
            "metadata": {},
            "name": "CAL_TPO_YEAR",
            "nullable": true,
            "type": "string"
           },
           {
            "metadata": {},
            "name": "CAL_TPO_MONTH",
            "nullable": true,
            "type": "string"
           },
           {
            "metadata": {},
            "name": "CAL_TPO_WEEK",
            "nullable": true,
            "type": "string"
           },
           {
            "metadata": {},
            "name": "CAL_TPO_YEAR_WEEK",
            "nullable": true,
            "type": "string"
           },
           {
            "metadata": {},
            "name": "BN_REGION",
            "nullable": true,
            "type": "string"
           },
           {
            "metadata": {},
            "name": "BN_BANNER",
            "nullable": true,
            "type": "string"
           },
           {
            "metadata": {},
            "name": "BN_BANNER_GROUP",
            "nullable": true,
            "type": "string"
           },
           {
            "metadata": {},
            "name": "BN_STORE_CHAIN",
            "nullable": true,
            "type": "string"
           },
           {
            "metadata": {},
            "name": "BN_CHANNEL",
            "nullable": true,
            "type": "string"
           },
           {
            "metadata": {},
            "name": "PK_PACK_TYPE",
            "nullable": true,
            "type": "string"
           },
           {
            "metadata": {},
            "name": "PK_PACK_SUBYPE",
            "nullable": true,
            "type": "string"
           },
           {
            "metadata": {},
            "name": "PK_CATEGORY_SUBTYPE",
            "nullable": true,
            "type": "string"
           }
          ],
          "type": "struct"
         },
         "tableIdentifier": null,
         "typeStr": "pyspark.sql.dataframe.DataFrame"
        },
        {
         "name": "sobeys",
         "schema": {
          "fields": [
           {
            "metadata": {},
            "name": "STORE_NUM",
            "nullable": true,
            "type": "string"
           },
           {
            "metadata": {},
            "name": "UPC",
            "nullable": true,
            "type": "string"
           },
           {
            "metadata": {},
            "name": "SALES",
            "nullable": true,
            "type": "string"
           },
           {
            "metadata": {},
            "name": "UNITS",
            "nullable": true,
            "type": "string"
           },
           {
            "metadata": {},
            "name": "CATEGORY",
            "nullable": true,
            "type": "string"
           },
           {
            "metadata": {},
            "name": "TPO_PRODUCT_NAME",
            "nullable": true,
            "type": "string"
           },
           {
            "metadata": {},
            "name": "TPO_PRODUCT_GROUP",
            "nullable": true,
            "type": "string"
           },
           {
            "metadata": {},
            "name": "SWEETNER",
            "nullable": true,
            "type": "string"
           },
           {
            "metadata": {},
            "name": "TYPE",
            "nullable": true,
            "type": "string"
           },
           {
            "metadata": {},
            "name": "PRODUCT",
            "nullable": true,
            "type": "string"
           },
           {
            "metadata": {},
            "name": "FLAVOUR",
            "nullable": true,
            "type": "string"
           },
           {
            "metadata": {},
            "name": "FV_FEATURE",
            "nullable": true,
            "type": "string"
           },
           {
            "metadata": {},
            "name": "FV_PURCHASE_QUANTITY",
            "nullable": true,
            "type": "string"
           },
           {
            "metadata": {},
            "name": "FV_UNIT_PRICE",
            "nullable": true,
            "type": "string"
           },
           {
            "metadata": {},
            "name": "FV_OFFER",
            "nullable": true,
            "type": "string"
           },
           {
            "metadata": {},
            "name": "FV_OFFER_DETAIL",
            "nullable": true,
            "type": "string"
           },
           {
            "metadata": {},
            "name": "CAL_WEEK_NAME",
            "nullable": true,
            "type": "string"
           },
           {
            "metadata": {},
            "name": "CAL_WEEK_TYPE",
            "nullable": true,
            "type": "string"
           },
           {
            "metadata": {},
            "name": "CAL_TPO_YEAR",
            "nullable": true,
            "type": "string"
           },
           {
            "metadata": {},
            "name": "CAL_TPO_MONTH",
            "nullable": true,
            "type": "string"
           },
           {
            "metadata": {},
            "name": "CAL_TPO_WEEK",
            "nullable": true,
            "type": "string"
           },
           {
            "metadata": {},
            "name": "CAL_TPO_YEAR_WEEK",
            "nullable": true,
            "type": "string"
           },
           {
            "metadata": {},
            "name": "BN_REGION",
            "nullable": true,
            "type": "string"
           },
           {
            "metadata": {},
            "name": "BN_BANNER",
            "nullable": true,
            "type": "string"
           },
           {
            "metadata": {},
            "name": "BN_BANNER_GROUP",
            "nullable": true,
            "type": "string"
           },
           {
            "metadata": {},
            "name": "BN_STORE_CHAIN",
            "nullable": true,
            "type": "string"
           },
           {
            "metadata": {},
            "name": "BN_CHANNEL",
            "nullable": true,
            "type": "string"
           },
           {
            "metadata": {},
            "name": "PK_PACK_TYPE",
            "nullable": true,
            "type": "string"
           },
           {
            "metadata": {},
            "name": "PK_PACK_SUBYPE",
            "nullable": true,
            "type": "string"
           },
           {
            "metadata": {},
            "name": "PK_CATEGORY_SUBTYPE",
            "nullable": true,
            "type": "string"
           }
          ],
          "type": "struct"
         },
         "tableIdentifier": null,
         "typeStr": "pyspark.sql.dataframe.DataFrame"
        },
        {
         "name": "walmart",
         "schema": {
          "fields": [
           {
            "metadata": {},
            "name": "STORE_NUM",
            "nullable": true,
            "type": "string"
           },
           {
            "metadata": {},
            "name": "UPC",
            "nullable": true,
            "type": "string"
           },
           {
            "metadata": {},
            "name": "SALES",
            "nullable": true,
            "type": "string"
           },
           {
            "metadata": {},
            "name": "UNITS",
            "nullable": true,
            "type": "string"
           },
           {
            "metadata": {},
            "name": "CATEGORY",
            "nullable": true,
            "type": "string"
           },
           {
            "metadata": {},
            "name": "TPO_PRODUCT_NAME",
            "nullable": true,
            "type": "string"
           },
           {
            "metadata": {},
            "name": "TPO_PRODUCT_GROUP",
            "nullable": true,
            "type": "string"
           },
           {
            "metadata": {},
            "name": "SWEETNER",
            "nullable": true,
            "type": "string"
           },
           {
            "metadata": {},
            "name": "TYPE",
            "nullable": true,
            "type": "string"
           },
           {
            "metadata": {},
            "name": "PRODUCT",
            "nullable": true,
            "type": "string"
           },
           {
            "metadata": {},
            "name": "FLAVOUR",
            "nullable": true,
            "type": "string"
           },
           {
            "metadata": {},
            "name": "FV_FEATURE",
            "nullable": true,
            "type": "string"
           },
           {
            "metadata": {},
            "name": "FV_PURCHASE_QUANTITY",
            "nullable": true,
            "type": "string"
           },
           {
            "metadata": {},
            "name": "FV_UNIT_PRICE",
            "nullable": true,
            "type": "string"
           },
           {
            "metadata": {},
            "name": "FV_OFFER",
            "nullable": true,
            "type": "string"
           },
           {
            "metadata": {},
            "name": "FV_OFFER_DETAIL",
            "nullable": true,
            "type": "string"
           },
           {
            "metadata": {},
            "name": "CAL_WEEK_NAME",
            "nullable": true,
            "type": "string"
           },
           {
            "metadata": {},
            "name": "CAL_WEEK_TYPE",
            "nullable": true,
            "type": "string"
           },
           {
            "metadata": {},
            "name": "CAL_TPO_YEAR",
            "nullable": true,
            "type": "string"
           },
           {
            "metadata": {},
            "name": "CAL_TPO_MONTH",
            "nullable": true,
            "type": "string"
           },
           {
            "metadata": {},
            "name": "CAL_TPO_WEEK",
            "nullable": true,
            "type": "string"
           },
           {
            "metadata": {},
            "name": "CAL_TPO_YEAR_WEEK",
            "nullable": true,
            "type": "string"
           },
           {
            "metadata": {},
            "name": "BN_REGION",
            "nullable": true,
            "type": "string"
           },
           {
            "metadata": {},
            "name": "BN_BANNER",
            "nullable": true,
            "type": "string"
           },
           {
            "metadata": {},
            "name": "BN_BANNER_GROUP",
            "nullable": true,
            "type": "string"
           },
           {
            "metadata": {},
            "name": "BN_STORE_CHAIN",
            "nullable": true,
            "type": "string"
           },
           {
            "metadata": {},
            "name": "BN_CHANNEL",
            "nullable": true,
            "type": "string"
           },
           {
            "metadata": {},
            "name": "PK_PACK_TYPE",
            "nullable": true,
            "type": "string"
           },
           {
            "metadata": {},
            "name": "PK_PACK_SUBYPE",
            "nullable": true,
            "type": "string"
           },
           {
            "metadata": {},
            "name": "PK_CATEGORY_SUBTYPE",
            "nullable": true,
            "type": "string"
           }
          ],
          "type": "struct"
         },
         "tableIdentifier": null,
         "typeStr": "pyspark.sql.dataframe.DataFrame"
        }
       ],
       "removedWidgets": [],
       "type": "html"
      }
     },
     "output_type": "display_data"
    }
   ],
   "source": [
    "fecoop = spark.read.csv('abfss://data@mma2021finch.dfs.core.windows.net/POS-DATA-STORE_UPC_FECCOOP_DATA.csv', header=True)\n",
    "lcl = spark.read.csv('abfss://data@mma2021finch.dfs.core.windows.net/POS-DATA-STORE_UPC_LCL_DATA.csv', header=True)\n",
    "metro = spark.read.csv('abfss://data@mma2021finch.dfs.core.windows.net/POS-DATA-STORE_UPC_METRO_DATA.csv', header=True)\n",
    "ow = spark.read.csv('abfss://data@mma2021finch.dfs.core.windows.net/POS-DATA-STORE_UPC_OW_DATA.csv', header=True)\n",
    "sdm = spark.read.csv('abfss://data@mma2021finch.dfs.core.windows.net/POS-DATA-STORE_UPC_SDM_DATA.csv', header=True)\n",
    "sobeys = spark.read.csv('abfss://data@mma2021finch.dfs.core.windows.net/POS-DATA-STORE_UPC_SOBEYS._DATA.csv', header=True)\n",
    "walmart = spark.read.csv('abfss://data@mma2021finch.dfs.core.windows.net/POS-DATA-STORE_UPC_WALMART_DATA.csv', header=True)"
   ]
  },
  {
   "cell_type": "code",
   "execution_count": 0,
   "metadata": {
    "application/vnd.databricks.v1+cell": {
     "inputWidgets": {},
     "nuid": "b6479466-d0f6-451f-bb12-5df4919ac043",
     "showTitle": false,
     "title": ""
    }
   },
   "outputs": [
    {
     "data": {
      "text/html": [
       "<style scoped>\n",
       "  .ansiout {\n",
       "    display: block;\n",
       "    unicode-bidi: embed;\n",
       "    white-space: pre-wrap;\n",
       "    word-wrap: break-word;\n",
       "    word-break: break-all;\n",
       "    font-family: \"Source Code Pro\", \"Menlo\", monospace;;\n",
       "    font-size: 13px;\n",
       "    color: #555;\n",
       "    margin-left: 4px;\n",
       "    line-height: 19px;\n",
       "  }\n",
       "</style>\n",
       "<div class=\"ansiout\"></div>"
      ]
     },
     "metadata": {
      "application/vnd.databricks.v1+output": {
       "addedWidgets": {},
       "arguments": {},
       "data": "<div class=\"ansiout\"></div>",
       "datasetInfos": [],
       "removedWidgets": [],
       "type": "html"
      }
     },
     "output_type": "display_data"
    }
   ],
   "source": [
    "from functools import reduce  # For Python 3.x\n",
    "from pyspark.sql import DataFrame\n",
    "from pyspark.sql.functions import col,sum,avg,max, when"
   ]
  },
  {
   "cell_type": "code",
   "execution_count": 0,
   "metadata": {
    "application/vnd.databricks.v1+cell": {
     "inputWidgets": {},
     "nuid": "fd9abaa2-34f4-47ec-8980-01b60389e205",
     "showTitle": false,
     "title": ""
    }
   },
   "outputs": [
    {
     "data": {
      "text/html": [
       "<style scoped>\n",
       "  .ansiout {\n",
       "    display: block;\n",
       "    unicode-bidi: embed;\n",
       "    white-space: pre-wrap;\n",
       "    word-wrap: break-word;\n",
       "    word-break: break-all;\n",
       "    font-family: \"Source Code Pro\", \"Menlo\", monospace;;\n",
       "    font-size: 13px;\n",
       "    color: #555;\n",
       "    margin-left: 4px;\n",
       "    line-height: 19px;\n",
       "  }\n",
       "</style>\n",
       "<div class=\"ansiout\"></div>"
      ]
     },
     "metadata": {
      "application/vnd.databricks.v1+output": {
       "addedWidgets": {},
       "arguments": {},
       "data": "<div class=\"ansiout\"></div>",
       "datasetInfos": [],
       "removedWidgets": [],
       "type": "html"
      }
     },
     "output_type": "display_data"
    }
   ],
   "source": [
    "def unionAll(*dfs):\n",
    "    return reduce(DataFrame.unionAll, dfs)"
   ]
  },
  {
   "cell_type": "code",
   "execution_count": 0,
   "metadata": {
    "application/vnd.databricks.v1+cell": {
     "inputWidgets": {},
     "nuid": "0029f4d2-dde3-4790-96d2-82c2ffb44bf7",
     "showTitle": false,
     "title": ""
    }
   },
   "outputs": [
    {
     "data": {
      "text/html": [
       "<style scoped>\n",
       "  .ansiout {\n",
       "    display: block;\n",
       "    unicode-bidi: embed;\n",
       "    white-space: pre-wrap;\n",
       "    word-wrap: break-word;\n",
       "    word-break: break-all;\n",
       "    font-family: \"Source Code Pro\", \"Menlo\", monospace;;\n",
       "    font-size: 13px;\n",
       "    color: #555;\n",
       "    margin-left: 4px;\n",
       "    line-height: 19px;\n",
       "  }\n",
       "</style>\n",
       "<div class=\"ansiout\"></div>"
      ]
     },
     "metadata": {
      "application/vnd.databricks.v1+output": {
       "addedWidgets": {},
       "arguments": {},
       "data": "<div class=\"ansiout\"></div>",
       "datasetInfos": [
        {
         "name": "df",
         "schema": {
          "fields": [
           {
            "metadata": {},
            "name": "STORE_NUM",
            "nullable": true,
            "type": "string"
           },
           {
            "metadata": {},
            "name": "UPC",
            "nullable": true,
            "type": "string"
           },
           {
            "metadata": {},
            "name": "SALES",
            "nullable": true,
            "type": "string"
           },
           {
            "metadata": {},
            "name": "UNITS",
            "nullable": true,
            "type": "string"
           },
           {
            "metadata": {},
            "name": "CATEGORY",
            "nullable": true,
            "type": "string"
           },
           {
            "metadata": {},
            "name": "TPO_PRODUCT_NAME",
            "nullable": true,
            "type": "string"
           },
           {
            "metadata": {},
            "name": "TPO_PRODUCT_GROUP",
            "nullable": true,
            "type": "string"
           },
           {
            "metadata": {},
            "name": "SWEETNER",
            "nullable": true,
            "type": "string"
           },
           {
            "metadata": {},
            "name": "TYPE",
            "nullable": true,
            "type": "string"
           },
           {
            "metadata": {},
            "name": "PRODUCT",
            "nullable": true,
            "type": "string"
           },
           {
            "metadata": {},
            "name": "FLAVOUR",
            "nullable": true,
            "type": "string"
           },
           {
            "metadata": {},
            "name": "FV_FEATURE",
            "nullable": true,
            "type": "string"
           },
           {
            "metadata": {},
            "name": "FV_PURCHASE_QUANTITY",
            "nullable": true,
            "type": "string"
           },
           {
            "metadata": {},
            "name": "FV_UNIT_PRICE",
            "nullable": true,
            "type": "string"
           },
           {
            "metadata": {},
            "name": "FV_OFFER",
            "nullable": true,
            "type": "string"
           },
           {
            "metadata": {},
            "name": "FV_OFFER_DETAIL",
            "nullable": true,
            "type": "string"
           },
           {
            "metadata": {},
            "name": "CAL_WEEK_NAME",
            "nullable": true,
            "type": "string"
           },
           {
            "metadata": {},
            "name": "CAL_WEEK_TYPE",
            "nullable": true,
            "type": "string"
           },
           {
            "metadata": {},
            "name": "CAL_TPO_YEAR",
            "nullable": true,
            "type": "string"
           },
           {
            "metadata": {},
            "name": "CAL_TPO_MONTH",
            "nullable": true,
            "type": "string"
           },
           {
            "metadata": {},
            "name": "CAL_TPO_WEEK",
            "nullable": true,
            "type": "string"
           },
           {
            "metadata": {},
            "name": "CAL_TPO_YEAR_WEEK",
            "nullable": true,
            "type": "string"
           },
           {
            "metadata": {},
            "name": "BN_REGION",
            "nullable": true,
            "type": "string"
           },
           {
            "metadata": {},
            "name": "BN_BANNER",
            "nullable": true,
            "type": "string"
           },
           {
            "metadata": {},
            "name": "BN_BANNER_GROUP",
            "nullable": true,
            "type": "string"
           },
           {
            "metadata": {},
            "name": "BN_STORE_CHAIN",
            "nullable": true,
            "type": "string"
           },
           {
            "metadata": {},
            "name": "BN_CHANNEL",
            "nullable": true,
            "type": "string"
           },
           {
            "metadata": {},
            "name": "PK_PACK_TYPE",
            "nullable": true,
            "type": "string"
           },
           {
            "metadata": {},
            "name": "PK_PACK_SUBYPE",
            "nullable": true,
            "type": "string"
           },
           {
            "metadata": {},
            "name": "PK_CATEGORY_SUBTYPE",
            "nullable": true,
            "type": "string"
           }
          ],
          "type": "struct"
         },
         "tableIdentifier": null,
         "typeStr": "pyspark.sql.dataframe.DataFrame"
        }
       ],
       "removedWidgets": [],
       "type": "html"
      }
     },
     "output_type": "display_data"
    }
   ],
   "source": [
    "df = unionAll(fecoop, lcl, metro, ow, sdm, sobeys, walmart)"
   ]
  },
  {
   "cell_type": "code",
   "execution_count": 0,
   "metadata": {
    "application/vnd.databricks.v1+cell": {
     "inputWidgets": {},
     "nuid": "44d6ab51-d826-473d-b417-6c740b687a9c",
     "showTitle": false,
     "title": ""
    }
   },
   "outputs": [
    {
     "data": {
      "text/html": [
       "<style scoped>\n",
       "  .ansiout {\n",
       "    display: block;\n",
       "    unicode-bidi: embed;\n",
       "    white-space: pre-wrap;\n",
       "    word-wrap: break-word;\n",
       "    word-break: break-all;\n",
       "    font-family: \"Source Code Pro\", \"Menlo\", monospace;;\n",
       "    font-size: 13px;\n",
       "    color: #555;\n",
       "    margin-left: 4px;\n",
       "    line-height: 19px;\n",
       "  }\n",
       "</style>\n",
       "<div class=\"ansiout\"></div>"
      ]
     },
     "metadata": {
      "application/vnd.databricks.v1+output": {
       "addedWidgets": {},
       "arguments": {},
       "data": "<div class=\"ansiout\"></div>",
       "datasetInfos": [],
       "removedWidgets": [],
       "type": "html"
      }
     },
     "output_type": "display_data"
    }
   ],
   "source": [
    "#df.count()"
   ]
  },
  {
   "cell_type": "code",
   "execution_count": 0,
   "metadata": {
    "application/vnd.databricks.v1+cell": {
     "inputWidgets": {},
     "nuid": "b92ed6b9-57cb-4525-a001-d0f8f7039677",
     "showTitle": false,
     "title": ""
    }
   },
   "outputs": [
    {
     "data": {
      "text/html": [
       "<style scoped>\n",
       "  .ansiout {\n",
       "    display: block;\n",
       "    unicode-bidi: embed;\n",
       "    white-space: pre-wrap;\n",
       "    word-wrap: break-word;\n",
       "    word-break: break-all;\n",
       "    font-family: \"Source Code Pro\", \"Menlo\", monospace;;\n",
       "    font-size: 13px;\n",
       "    color: #555;\n",
       "    margin-left: 4px;\n",
       "    line-height: 19px;\n",
       "  }\n",
       "</style>\n",
       "<div class=\"ansiout\"></div>"
      ]
     },
     "metadata": {
      "application/vnd.databricks.v1+output": {
       "addedWidgets": {},
       "arguments": {},
       "data": "<div class=\"ansiout\"></div>",
       "datasetInfos": [],
       "removedWidgets": [],
       "type": "html"
      }
     },
     "output_type": "display_data"
    }
   ],
   "source": [
    "#display(df.where(col(\"FV_FEATURE\")!=\"NULL\").groupBy(\"FV_FEATURE\").count())"
   ]
  },
  {
   "cell_type": "code",
   "execution_count": 0,
   "metadata": {
    "application/vnd.databricks.v1+cell": {
     "inputWidgets": {},
     "nuid": "2d847ba0-f32f-44df-a45e-01afc2836d6c",
     "showTitle": false,
     "title": ""
    }
   },
   "outputs": [
    {
     "data": {
      "text/html": [
       "<style scoped>\n",
       "  .ansiout {\n",
       "    display: block;\n",
       "    unicode-bidi: embed;\n",
       "    white-space: pre-wrap;\n",
       "    word-wrap: break-word;\n",
       "    word-break: break-all;\n",
       "    font-family: \"Source Code Pro\", \"Menlo\", monospace;;\n",
       "    font-size: 13px;\n",
       "    color: #555;\n",
       "    margin-left: 4px;\n",
       "    line-height: 19px;\n",
       "  }\n",
       "</style>\n",
       "<div class=\"ansiout\"></div>"
      ]
     },
     "metadata": {
      "application/vnd.databricks.v1+output": {
       "addedWidgets": {},
       "arguments": {},
       "data": "<div class=\"ansiout\"></div>",
       "datasetInfos": [
        {
         "name": "product_mast",
         "schema": {
          "fields": [
           {
            "metadata": {},
            "name": "UPC",
            "nullable": true,
            "type": "string"
           },
           {
            "metadata": {},
            "name": "TPO_PRODUCT_NAME",
            "nullable": true,
            "type": "string"
           },
           {
            "metadata": {},
            "name": "TPO_PRODUCT_GROUP",
            "nullable": true,
            "type": "string"
           },
           {
            "metadata": {},
            "name": "PRODUCT",
            "nullable": true,
            "type": "string"
           },
           {
            "metadata": {},
            "name": "SIZE_ML",
            "nullable": true,
            "type": "string"
           },
           {
            "metadata": {},
            "name": "COUNT",
            "nullable": true,
            "type": "string"
           },
           {
            "metadata": {},
            "name": "PACK_TYPE",
            "nullable": true,
            "type": "string"
           },
           {
            "metadata": {},
            "name": "PACK_SUBTYPE",
            "nullable": true,
            "type": "string"
           },
           {
            "metadata": {},
            "name": "PACK_CATEGORY_SUBTYPE",
            "nullable": true,
            "type": "string"
           },
           {
            "metadata": {},
            "name": "TYPE",
            "nullable": true,
            "type": "string"
           },
           {
            "metadata": {},
            "name": "SWEETNER",
            "nullable": true,
            "type": "string"
           },
           {
            "metadata": {},
            "name": "FLAVOUR",
            "nullable": true,
            "type": "string"
           },
           {
            "metadata": {},
            "name": "CATEGORY",
            "nullable": true,
            "type": "string"
           },
           {
            "metadata": {},
            "name": "INNOVATION_TYPE",
            "nullable": true,
            "type": "string"
           },
           {
            "metadata": {},
            "name": "START_YEAR",
            "nullable": true,
            "type": "string"
           },
           {
            "metadata": {},
            "name": "START_WEEK",
            "nullable": true,
            "type": "string"
           },
           {
            "metadata": {},
            "name": "END_YEAR",
            "nullable": true,
            "type": "string"
           },
           {
            "metadata": {},
            "name": "END_WEEK",
            "nullable": true,
            "type": "string"
           }
          ],
          "type": "struct"
         },
         "tableIdentifier": null,
         "typeStr": "pyspark.sql.dataframe.DataFrame"
        }
       ],
       "removedWidgets": [],
       "type": "html"
      }
     },
     "output_type": "display_data"
    }
   ],
   "source": [
    "product_mast = spark.read.csv('abfss://data@mma2021finch.dfs.core.windows.net/POS-DIM-PRODUCTS_DATA.csv', header=True)"
   ]
  },
  {
   "cell_type": "code",
   "execution_count": 0,
   "metadata": {
    "application/vnd.databricks.v1+cell": {
     "inputWidgets": {},
     "nuid": "aaab296c-a9e6-4974-b1e7-2e0fee6b4585",
     "showTitle": false,
     "title": ""
    }
   },
   "outputs": [
    {
     "data": {
      "text/html": [
       "<style scoped>\n",
       "  .ansiout {\n",
       "    display: block;\n",
       "    unicode-bidi: embed;\n",
       "    white-space: pre-wrap;\n",
       "    word-wrap: break-word;\n",
       "    word-break: break-all;\n",
       "    font-family: \"Source Code Pro\", \"Menlo\", monospace;;\n",
       "    font-size: 13px;\n",
       "    color: #555;\n",
       "    margin-left: 4px;\n",
       "    line-height: 19px;\n",
       "  }\n",
       "</style>\n",
       "<div class=\"ansiout\"></div>"
      ]
     },
     "metadata": {
      "application/vnd.databricks.v1+output": {
       "addedWidgets": {},
       "arguments": {},
       "data": "<div class=\"ansiout\"></div>",
       "datasetInfos": [
        {
         "name": "df_lto",
         "schema": {
          "fields": [
           {
            "metadata": {},
            "name": "UPC",
            "nullable": true,
            "type": "string"
           },
           {
            "metadata": {},
            "name": "STORE_NUM",
            "nullable": true,
            "type": "string"
           },
           {
            "metadata": {},
            "name": "SALES",
            "nullable": true,
            "type": "string"
           },
           {
            "metadata": {},
            "name": "UNITS",
            "nullable": true,
            "type": "string"
           },
           {
            "metadata": {},
            "name": "CATEGORY",
            "nullable": true,
            "type": "string"
           },
           {
            "metadata": {},
            "name": "TPO_PRODUCT_NAME",
            "nullable": true,
            "type": "string"
           },
           {
            "metadata": {},
            "name": "TPO_PRODUCT_GROUP",
            "nullable": true,
            "type": "string"
           },
           {
            "metadata": {},
            "name": "SWEETNER",
            "nullable": true,
            "type": "string"
           },
           {
            "metadata": {},
            "name": "TYPE",
            "nullable": true,
            "type": "string"
           },
           {
            "metadata": {},
            "name": "PRODUCT",
            "nullable": true,
            "type": "string"
           },
           {
            "metadata": {},
            "name": "FLAVOUR",
            "nullable": true,
            "type": "string"
           },
           {
            "metadata": {},
            "name": "FV_FEATURE",
            "nullable": true,
            "type": "string"
           },
           {
            "metadata": {},
            "name": "FV_PURCHASE_QUANTITY",
            "nullable": true,
            "type": "string"
           },
           {
            "metadata": {},
            "name": "FV_UNIT_PRICE",
            "nullable": true,
            "type": "string"
           },
           {
            "metadata": {},
            "name": "FV_OFFER",
            "nullable": true,
            "type": "string"
           },
           {
            "metadata": {},
            "name": "FV_OFFER_DETAIL",
            "nullable": true,
            "type": "string"
           },
           {
            "metadata": {},
            "name": "CAL_WEEK_NAME",
            "nullable": true,
            "type": "string"
           },
           {
            "metadata": {},
            "name": "CAL_WEEK_TYPE",
            "nullable": true,
            "type": "string"
           },
           {
            "metadata": {},
            "name": "CAL_TPO_YEAR",
            "nullable": true,
            "type": "string"
           },
           {
            "metadata": {},
            "name": "CAL_TPO_MONTH",
            "nullable": true,
            "type": "string"
           },
           {
            "metadata": {},
            "name": "CAL_TPO_WEEK",
            "nullable": true,
            "type": "string"
           },
           {
            "metadata": {},
            "name": "CAL_TPO_YEAR_WEEK",
            "nullable": true,
            "type": "string"
           },
           {
            "metadata": {},
            "name": "BN_REGION",
            "nullable": true,
            "type": "string"
           },
           {
            "metadata": {},
            "name": "BN_BANNER",
            "nullable": true,
            "type": "string"
           },
           {
            "metadata": {},
            "name": "BN_BANNER_GROUP",
            "nullable": true,
            "type": "string"
           },
           {
            "metadata": {},
            "name": "BN_STORE_CHAIN",
            "nullable": true,
            "type": "string"
           },
           {
            "metadata": {},
            "name": "BN_CHANNEL",
            "nullable": true,
            "type": "string"
           },
           {
            "metadata": {},
            "name": "PK_PACK_TYPE",
            "nullable": true,
            "type": "string"
           },
           {
            "metadata": {},
            "name": "PK_PACK_SUBYPE",
            "nullable": true,
            "type": "string"
           },
           {
            "metadata": {},
            "name": "PK_CATEGORY_SUBTYPE",
            "nullable": true,
            "type": "string"
           },
           {
            "metadata": {},
            "name": "INNOVATION_TYPE",
            "nullable": true,
            "type": "string"
           }
          ],
          "type": "struct"
         },
         "tableIdentifier": null,
         "typeStr": "pyspark.sql.dataframe.DataFrame"
        }
       ],
       "removedWidgets": [],
       "type": "html"
      }
     },
     "output_type": "display_data"
    }
   ],
   "source": [
    "df_lto = df.join(product_mast.select(\"UPC\",\"INNOVATION_TYPE\"), ['UPC'],how='left')"
   ]
  },
  {
   "cell_type": "code",
   "execution_count": 0,
   "metadata": {
    "application/vnd.databricks.v1+cell": {
     "inputWidgets": {},
     "nuid": "6f1798d9-6f24-4ccd-955c-cd66820db2b6",
     "showTitle": false,
     "title": ""
    }
   },
   "outputs": [
    {
     "data": {
      "text/html": [
       "<style scoped>\n",
       "  .ansiout {\n",
       "    display: block;\n",
       "    unicode-bidi: embed;\n",
       "    white-space: pre-wrap;\n",
       "    word-wrap: break-word;\n",
       "    word-break: break-all;\n",
       "    font-family: \"Source Code Pro\", \"Menlo\", monospace;;\n",
       "    font-size: 13px;\n",
       "    color: #555;\n",
       "    margin-left: 4px;\n",
       "    line-height: 19px;\n",
       "  }\n",
       "</style>\n",
       "<div class=\"ansiout\"></div>"
      ]
     },
     "metadata": {
      "application/vnd.databricks.v1+output": {
       "addedWidgets": {},
       "arguments": {},
       "data": "<div class=\"ansiout\"></div>",
       "datasetInfos": [
        {
         "name": "df_lto",
         "schema": {
          "fields": [
           {
            "metadata": {},
            "name": "UPC",
            "nullable": true,
            "type": "string"
           },
           {
            "metadata": {},
            "name": "STORE_NUM",
            "nullable": true,
            "type": "string"
           },
           {
            "metadata": {},
            "name": "SALES",
            "nullable": true,
            "type": "string"
           },
           {
            "metadata": {},
            "name": "UNITS",
            "nullable": true,
            "type": "string"
           },
           {
            "metadata": {},
            "name": "CATEGORY",
            "nullable": true,
            "type": "string"
           },
           {
            "metadata": {},
            "name": "TPO_PRODUCT_NAME",
            "nullable": true,
            "type": "string"
           },
           {
            "metadata": {},
            "name": "TPO_PRODUCT_GROUP",
            "nullable": true,
            "type": "string"
           },
           {
            "metadata": {},
            "name": "SWEETNER",
            "nullable": true,
            "type": "string"
           },
           {
            "metadata": {},
            "name": "TYPE",
            "nullable": true,
            "type": "string"
           },
           {
            "metadata": {},
            "name": "PRODUCT",
            "nullable": true,
            "type": "string"
           },
           {
            "metadata": {},
            "name": "FLAVOUR",
            "nullable": true,
            "type": "string"
           },
           {
            "metadata": {},
            "name": "FV_FEATURE",
            "nullable": true,
            "type": "string"
           },
           {
            "metadata": {},
            "name": "FV_PURCHASE_QUANTITY",
            "nullable": true,
            "type": "string"
           },
           {
            "metadata": {},
            "name": "FV_UNIT_PRICE",
            "nullable": true,
            "type": "string"
           },
           {
            "metadata": {},
            "name": "FV_OFFER",
            "nullable": true,
            "type": "string"
           },
           {
            "metadata": {},
            "name": "FV_OFFER_DETAIL",
            "nullable": true,
            "type": "string"
           },
           {
            "metadata": {},
            "name": "CAL_WEEK_NAME",
            "nullable": true,
            "type": "string"
           },
           {
            "metadata": {},
            "name": "CAL_WEEK_TYPE",
            "nullable": true,
            "type": "string"
           },
           {
            "metadata": {},
            "name": "CAL_TPO_YEAR",
            "nullable": true,
            "type": "string"
           },
           {
            "metadata": {},
            "name": "CAL_TPO_MONTH",
            "nullable": true,
            "type": "string"
           },
           {
            "metadata": {},
            "name": "CAL_TPO_WEEK",
            "nullable": true,
            "type": "string"
           },
           {
            "metadata": {},
            "name": "CAL_TPO_YEAR_WEEK",
            "nullable": true,
            "type": "string"
           },
           {
            "metadata": {},
            "name": "BN_REGION",
            "nullable": true,
            "type": "string"
           },
           {
            "metadata": {},
            "name": "BN_BANNER",
            "nullable": true,
            "type": "string"
           },
           {
            "metadata": {},
            "name": "BN_BANNER_GROUP",
            "nullable": true,
            "type": "string"
           },
           {
            "metadata": {},
            "name": "BN_STORE_CHAIN",
            "nullable": true,
            "type": "string"
           },
           {
            "metadata": {},
            "name": "BN_CHANNEL",
            "nullable": true,
            "type": "string"
           },
           {
            "metadata": {},
            "name": "PK_PACK_TYPE",
            "nullable": true,
            "type": "string"
           },
           {
            "metadata": {},
            "name": "PK_PACK_SUBYPE",
            "nullable": true,
            "type": "string"
           },
           {
            "metadata": {},
            "name": "PK_CATEGORY_SUBTYPE",
            "nullable": true,
            "type": "string"
           },
           {
            "metadata": {},
            "name": "INNOVATION_TYPE",
            "nullable": true,
            "type": "string"
           },
           {
            "metadata": {},
            "name": "LTO",
            "nullable": false,
            "type": "integer"
           }
          ],
          "type": "struct"
         },
         "tableIdentifier": null,
         "typeStr": "pyspark.sql.dataframe.DataFrame"
        }
       ],
       "removedWidgets": [],
       "type": "html"
      }
     },
     "output_type": "display_data"
    }
   ],
   "source": [
    "df_lto = df_lto.withColumn('LTO',  when(col(\"INNOVATION_TYPE\")==\"LTO\",1).otherwise(0))"
   ]
  },
  {
   "cell_type": "code",
   "execution_count": 0,
   "metadata": {
    "application/vnd.databricks.v1+cell": {
     "inputWidgets": {},
     "nuid": "460b00fb-2ec1-4ae6-97bf-847a4d744c87",
     "showTitle": false,
     "title": ""
    }
   },
   "outputs": [
    {
     "data": {
      "text/html": [
       "<style scoped>\n",
       "  .ansiout {\n",
       "    display: block;\n",
       "    unicode-bidi: embed;\n",
       "    white-space: pre-wrap;\n",
       "    word-wrap: break-word;\n",
       "    word-break: break-all;\n",
       "    font-family: \"Source Code Pro\", \"Menlo\", monospace;;\n",
       "    font-size: 13px;\n",
       "    color: #555;\n",
       "    margin-left: 4px;\n",
       "    line-height: 19px;\n",
       "  }\n",
       "</style>\n",
       "<div class=\"ansiout\"></div>"
      ]
     },
     "metadata": {
      "application/vnd.databricks.v1+output": {
       "addedWidgets": {},
       "arguments": {},
       "data": "<div class=\"ansiout\"></div>",
       "datasetInfos": [
        {
         "name": "deals",
         "schema": {
          "fields": [
           {
            "metadata": {},
            "name": "CATEGORY",
            "nullable": true,
            "type": "string"
           },
           {
            "metadata": {},
            "name": "CAL_TPO_YEAR",
            "nullable": true,
            "type": "string"
           },
           {
            "metadata": {},
            "name": "CAL_TPO_MONTH",
            "nullable": true,
            "type": "string"
           },
           {
            "metadata": {},
            "name": "CAL_TPO_WEEK",
            "nullable": true,
            "type": "string"
           },
           {
            "metadata": {},
            "name": "CAL_WEEK_TYPE",
            "nullable": true,
            "type": "string"
           },
           {
            "metadata": {},
            "name": "BN_REGION",
            "nullable": true,
            "type": "string"
           },
           {
            "metadata": {},
            "name": "num_deals",
            "nullable": false,
            "type": "long"
           }
          ],
          "type": "struct"
         },
         "tableIdentifier": null,
         "typeStr": "pyspark.sql.dataframe.DataFrame"
        },
        {
         "name": "deals_denom",
         "schema": {
          "fields": [
           {
            "metadata": {},
            "name": "CATEGORY",
            "nullable": true,
            "type": "string"
           },
           {
            "metadata": {},
            "name": "CAL_TPO_YEAR",
            "nullable": true,
            "type": "string"
           },
           {
            "metadata": {},
            "name": "CAL_TPO_MONTH",
            "nullable": true,
            "type": "string"
           },
           {
            "metadata": {},
            "name": "CAL_TPO_WEEK",
            "nullable": true,
            "type": "string"
           },
           {
            "metadata": {},
            "name": "CAL_WEEK_TYPE",
            "nullable": true,
            "type": "string"
           },
           {
            "metadata": {},
            "name": "BN_REGION",
            "nullable": true,
            "type": "string"
           },
           {
            "metadata": {},
            "name": "num_non_deals",
            "nullable": false,
            "type": "long"
           }
          ],
          "type": "struct"
         },
         "tableIdentifier": null,
         "typeStr": "pyspark.sql.dataframe.DataFrame"
        }
       ],
       "removedWidgets": [],
       "type": "html"
      }
     },
     "output_type": "display_data"
    }
   ],
   "source": [
    "deals = df_lto.select(\"CATEGORY\",\"CAL_TPO_YEAR\",\"CAL_TPO_MONTH\",\"CAL_TPO_WEEK\",\"CAL_WEEK_TYPE\",\"BN_REGION\",\"TPO_PRODUCT_NAME\").where((col(\"LTO\")==0) & ((col(\"FV_FEATURE\")!=\"NULL\")))\n",
    "deals = deals.groupBy(\"CATEGORY\",\"CAL_TPO_YEAR\",\"CAL_TPO_MONTH\",\"CAL_TPO_WEEK\",\"CAL_WEEK_TYPE\",\"BN_REGION\").count()\n",
    "deals = deals.withColumnRenamed(\"count\",\"num_deals\")\n",
    "deals_denom = df_lto.select(\"CATEGORY\",\"CAL_TPO_YEAR\",\"CAL_TPO_MONTH\",\"CAL_TPO_WEEK\",\"CAL_WEEK_TYPE\",\"BN_REGION\",\"TPO_PRODUCT_NAME\").where((col(\"LTO\")==0))\n",
    "deals_denom = deals_denom.groupBy(\"CATEGORY\",\"CAL_TPO_YEAR\",\"CAL_TPO_MONTH\",\"CAL_TPO_WEEK\",\"CAL_WEEK_TYPE\",\"BN_REGION\").count()\n",
    "deals_denom = deals_denom.withColumnRenamed(\"count\",\"num_non_deals\")"
   ]
  },
  {
   "cell_type": "code",
   "execution_count": 0,
   "metadata": {
    "application/vnd.databricks.v1+cell": {
     "inputWidgets": {},
     "nuid": "4cc0a43f-08d2-4c24-9be9-2d3f438225a6",
     "showTitle": false,
     "title": ""
    }
   },
   "outputs": [
    {
     "data": {
      "text/html": [
       "<style scoped>\n",
       "  .ansiout {\n",
       "    display: block;\n",
       "    unicode-bidi: embed;\n",
       "    white-space: pre-wrap;\n",
       "    word-wrap: break-word;\n",
       "    word-break: break-all;\n",
       "    font-family: \"Source Code Pro\", \"Menlo\", monospace;;\n",
       "    font-size: 13px;\n",
       "    color: #555;\n",
       "    margin-left: 4px;\n",
       "    line-height: 19px;\n",
       "  }\n",
       "</style>\n",
       "<div class=\"ansiout\"></div>"
      ]
     },
     "metadata": {
      "application/vnd.databricks.v1+output": {
       "addedWidgets": {},
       "arguments": {},
       "data": "<div class=\"ansiout\"></div>",
       "datasetInfos": [
        {
         "name": "deals_all",
         "schema": {
          "fields": [
           {
            "metadata": {},
            "name": "CATEGORY",
            "nullable": true,
            "type": "string"
           },
           {
            "metadata": {},
            "name": "CAL_TPO_YEAR",
            "nullable": true,
            "type": "string"
           },
           {
            "metadata": {},
            "name": "CAL_TPO_MONTH",
            "nullable": true,
            "type": "string"
           },
           {
            "metadata": {},
            "name": "CAL_TPO_WEEK",
            "nullable": true,
            "type": "string"
           },
           {
            "metadata": {},
            "name": "CAL_WEEK_TYPE",
            "nullable": true,
            "type": "string"
           },
           {
            "metadata": {},
            "name": "BN_REGION",
            "nullable": true,
            "type": "string"
           },
           {
            "metadata": {},
            "name": "num_non_deals",
            "nullable": false,
            "type": "long"
           },
           {
            "metadata": {},
            "name": "num_deals",
            "nullable": true,
            "type": "long"
           }
          ],
          "type": "struct"
         },
         "tableIdentifier": null,
         "typeStr": "pyspark.sql.dataframe.DataFrame"
        }
       ],
       "removedWidgets": [],
       "type": "html"
      }
     },
     "output_type": "display_data"
    }
   ],
   "source": [
    "deals_all = deals_denom.join(deals, [\"CATEGORY\",\"CAL_TPO_YEAR\",\"CAL_TPO_MONTH\",\"CAL_TPO_WEEK\",\"CAL_WEEK_TYPE\",\"BN_REGION\"] ,how='left') "
   ]
  },
  {
   "cell_type": "code",
   "execution_count": 0,
   "metadata": {
    "application/vnd.databricks.v1+cell": {
     "inputWidgets": {},
     "nuid": "464e9cd8-a9d6-4ad4-9dbb-cd3bc8ac85b0",
     "showTitle": false,
     "title": ""
    }
   },
   "outputs": [
    {
     "data": {
      "text/html": [
       "<style scoped>\n",
       "  .ansiout {\n",
       "    display: block;\n",
       "    unicode-bidi: embed;\n",
       "    white-space: pre-wrap;\n",
       "    word-wrap: break-word;\n",
       "    word-break: break-all;\n",
       "    font-family: \"Source Code Pro\", \"Menlo\", monospace;;\n",
       "    font-size: 13px;\n",
       "    color: #555;\n",
       "    margin-left: 4px;\n",
       "    line-height: 19px;\n",
       "  }\n",
       "</style>\n",
       "<div class=\"ansiout\"></div>"
      ]
     },
     "metadata": {
      "application/vnd.databricks.v1+output": {
       "addedWidgets": {},
       "arguments": {},
       "data": "<div class=\"ansiout\"></div>",
       "datasetInfos": [
        {
         "name": "deals_all",
         "schema": {
          "fields": [
           {
            "metadata": {},
            "name": "CATEGORY",
            "nullable": true,
            "type": "string"
           },
           {
            "metadata": {},
            "name": "CAL_TPO_YEAR",
            "nullable": true,
            "type": "string"
           },
           {
            "metadata": {},
            "name": "CAL_TPO_MONTH",
            "nullable": true,
            "type": "string"
           },
           {
            "metadata": {},
            "name": "CAL_TPO_WEEK",
            "nullable": true,
            "type": "string"
           },
           {
            "metadata": {},
            "name": "CAL_WEEK_TYPE",
            "nullable": true,
            "type": "string"
           },
           {
            "metadata": {},
            "name": "BN_REGION",
            "nullable": true,
            "type": "string"
           },
           {
            "metadata": {},
            "name": "percent_deals",
            "nullable": true,
            "type": "double"
           }
          ],
          "type": "struct"
         },
         "tableIdentifier": null,
         "typeStr": "pyspark.sql.dataframe.DataFrame"
        }
       ],
       "removedWidgets": [],
       "type": "html"
      }
     },
     "output_type": "display_data"
    }
   ],
   "source": [
    "deals_all = deals_all.withColumn('percent_deals', col('num_deals')/col('num_non_deals'))\n",
    "deals_all = deals_all.drop('num_non_deals', 'num_deals')"
   ]
  },
  {
   "cell_type": "code",
   "execution_count": 0,
   "metadata": {
    "application/vnd.databricks.v1+cell": {
     "inputWidgets": {},
     "nuid": "346dbe0a-c3b1-4256-bb5d-47eed67764f4",
     "showTitle": false,
     "title": ""
    }
   },
   "outputs": [
    {
     "data": {
      "text/html": [
       "<style scoped>\n",
       "  .ansiout {\n",
       "    display: block;\n",
       "    unicode-bidi: embed;\n",
       "    white-space: pre-wrap;\n",
       "    word-wrap: break-word;\n",
       "    word-break: break-all;\n",
       "    font-family: \"Source Code Pro\", \"Menlo\", monospace;;\n",
       "    font-size: 13px;\n",
       "    color: #555;\n",
       "    margin-left: 4px;\n",
       "    line-height: 19px;\n",
       "  }\n",
       "</style>\n",
       "<div class=\"ansiout\"></div>"
      ]
     },
     "metadata": {
      "application/vnd.databricks.v1+output": {
       "addedWidgets": {},
       "arguments": {},
       "data": "<div class=\"ansiout\"></div>",
       "datasetInfos": [
        {
         "name": "df_lto_agg",
         "schema": {
          "fields": [
           {
            "metadata": {},
            "name": "CATEGORY",
            "nullable": true,
            "type": "string"
           },
           {
            "metadata": {},
            "name": "CAL_TPO_YEAR",
            "nullable": true,
            "type": "string"
           },
           {
            "metadata": {},
            "name": "CAL_TPO_MONTH",
            "nullable": true,
            "type": "string"
           },
           {
            "metadata": {},
            "name": "CAL_TPO_WEEK",
            "nullable": true,
            "type": "string"
           },
           {
            "metadata": {},
            "name": "CAL_WEEK_TYPE",
            "nullable": true,
            "type": "string"
           },
           {
            "metadata": {},
            "name": "BN_REGION",
            "nullable": true,
            "type": "string"
           },
           {
            "metadata": {},
            "name": "sum(SALES)",
            "nullable": true,
            "type": "double"
           }
          ],
          "type": "struct"
         },
         "tableIdentifier": null,
         "typeStr": "pyspark.sql.dataframe.DataFrame"
        }
       ],
       "removedWidgets": [],
       "type": "html"
      }
     },
     "output_type": "display_data"
    }
   ],
   "source": [
    "df_lto_agg = df_lto.select(df_lto.SALES.cast('float').alias('SALES'),\"CATEGORY\",\"CAL_TPO_YEAR\",\"CAL_TPO_MONTH\",\"CAL_TPO_WEEK\",\"CAL_WEEK_TYPE\",\"BN_REGION\")\n",
    "df_lto_agg = df_lto_agg.groupBy(\"CATEGORY\",\"CAL_TPO_YEAR\",\"CAL_TPO_MONTH\",\"CAL_TPO_WEEK\",\"CAL_WEEK_TYPE\",\"BN_REGION\").sum(\"SALES\")"
   ]
  },
  {
   "cell_type": "code",
   "execution_count": 0,
   "metadata": {
    "application/vnd.databricks.v1+cell": {
     "inputWidgets": {},
     "nuid": "33fbb771-3abd-4082-82ff-e4fbc3a1cf8d",
     "showTitle": false,
     "title": ""
    }
   },
   "outputs": [
    {
     "data": {
      "text/html": [
       "<style scoped>\n",
       "  .ansiout {\n",
       "    display: block;\n",
       "    unicode-bidi: embed;\n",
       "    white-space: pre-wrap;\n",
       "    word-wrap: break-word;\n",
       "    word-break: break-all;\n",
       "    font-family: \"Source Code Pro\", \"Menlo\", monospace;;\n",
       "    font-size: 13px;\n",
       "    color: #555;\n",
       "    margin-left: 4px;\n",
       "    line-height: 19px;\n",
       "  }\n",
       "</style>\n",
       "<div class=\"ansiout\"></div>"
      ]
     },
     "metadata": {
      "application/vnd.databricks.v1+output": {
       "addedWidgets": {},
       "arguments": {},
       "data": "<div class=\"ansiout\"></div>",
       "datasetInfos": [
        {
         "name": "df_lto_agg",
         "schema": {
          "fields": [
           {
            "metadata": {},
            "name": "CATEGORY",
            "nullable": true,
            "type": "string"
           },
           {
            "metadata": {},
            "name": "CAL_TPO_YEAR",
            "nullable": true,
            "type": "string"
           },
           {
            "metadata": {},
            "name": "CAL_TPO_MONTH",
            "nullable": true,
            "type": "string"
           },
           {
            "metadata": {},
            "name": "CAL_TPO_WEEK",
            "nullable": true,
            "type": "string"
           },
           {
            "metadata": {},
            "name": "CAL_WEEK_TYPE",
            "nullable": true,
            "type": "string"
           },
           {
            "metadata": {},
            "name": "BN_REGION",
            "nullable": true,
            "type": "string"
           },
           {
            "metadata": {},
            "name": "sum(SALES)",
            "nullable": true,
            "type": "double"
           },
           {
            "metadata": {},
            "name": "percent_deals",
            "nullable": true,
            "type": "double"
           }
          ],
          "type": "struct"
         },
         "tableIdentifier": null,
         "typeStr": "pyspark.sql.dataframe.DataFrame"
        }
       ],
       "removedWidgets": [],
       "type": "html"
      }
     },
     "output_type": "display_data"
    }
   ],
   "source": [
    "df_lto_agg = df_lto_agg.join(deals_all, [\"CATEGORY\",\"CAL_TPO_YEAR\",\"CAL_TPO_MONTH\",\"CAL_TPO_WEEK\",\"CAL_WEEK_TYPE\",\"BN_REGION\"] ,how='left') "
   ]
  },
  {
   "cell_type": "code",
   "execution_count": 0,
   "metadata": {
    "application/vnd.databricks.v1+cell": {
     "inputWidgets": {},
     "nuid": "347873a4-a07a-41ea-afa0-533f357a0f39",
     "showTitle": false,
     "title": ""
    }
   },
   "outputs": [
    {
     "data": {
      "text/html": [
       "<style scoped>\n",
       "  .ansiout {\n",
       "    display: block;\n",
       "    unicode-bidi: embed;\n",
       "    white-space: pre-wrap;\n",
       "    word-wrap: break-word;\n",
       "    word-break: break-all;\n",
       "    font-family: \"Source Code Pro\", \"Menlo\", monospace;;\n",
       "    font-size: 13px;\n",
       "    color: #555;\n",
       "    margin-left: 4px;\n",
       "    line-height: 19px;\n",
       "  }\n",
       "</style>\n",
       "<div class=\"ansiout\"></div>"
      ]
     },
     "metadata": {
      "application/vnd.databricks.v1+output": {
       "addedWidgets": {},
       "arguments": {},
       "data": "<div class=\"ansiout\"></div>",
       "datasetInfos": [
        {
         "name": "df_lto_agg",
         "schema": {
          "fields": [
           {
            "metadata": {},
            "name": "CATEGORY",
            "nullable": true,
            "type": "string"
           },
           {
            "metadata": {},
            "name": "CAL_TPO_YEAR",
            "nullable": true,
            "type": "string"
           },
           {
            "metadata": {},
            "name": "CAL_TPO_MONTH",
            "nullable": true,
            "type": "string"
           },
           {
            "metadata": {},
            "name": "CAL_TPO_WEEK",
            "nullable": true,
            "type": "string"
           },
           {
            "metadata": {},
            "name": "CAL_WEEK_TYPE",
            "nullable": true,
            "type": "string"
           },
           {
            "metadata": {},
            "name": "BN_REGION",
            "nullable": true,
            "type": "string"
           },
           {
            "metadata": {},
            "name": "sum(SALES)",
            "nullable": true,
            "type": "double"
           },
           {
            "metadata": {},
            "name": "percent_deals",
            "nullable": true,
            "type": "double"
           }
          ],
          "type": "struct"
         },
         "tableIdentifier": null,
         "typeStr": "pyspark.sql.dataframe.DataFrame"
        }
       ],
       "removedWidgets": [],
       "type": "html"
      }
     },
     "output_type": "display_data"
    }
   ],
   "source": [
    "df_lto_agg = df_lto_agg.withColumn('percent_deals',  when(col('percent_deals').isNull(),0).otherwise(col('percent_deals')))"
   ]
  },
  {
   "cell_type": "code",
   "execution_count": 0,
   "metadata": {
    "application/vnd.databricks.v1+cell": {
     "inputWidgets": {},
     "nuid": "05049803-94ba-4989-b56d-9fda8d23174d",
     "showTitle": false,
     "title": ""
    }
   },
   "outputs": [
    {
     "data": {
      "text/html": [
       "<style scoped>\n",
       "  .ansiout {\n",
       "    display: block;\n",
       "    unicode-bidi: embed;\n",
       "    white-space: pre-wrap;\n",
       "    word-wrap: break-word;\n",
       "    word-break: break-all;\n",
       "    font-family: \"Source Code Pro\", \"Menlo\", monospace;;\n",
       "    font-size: 13px;\n",
       "    color: #555;\n",
       "    margin-left: 4px;\n",
       "    line-height: 19px;\n",
       "  }\n",
       "</style>\n",
       "<div class=\"ansiout\">Out[17]: 4160</div>"
      ]
     },
     "metadata": {
      "application/vnd.databricks.v1+output": {
       "addedWidgets": {},
       "arguments": {},
       "data": "<div class=\"ansiout\">Out[17]: 4160</div>",
       "datasetInfos": [],
       "removedWidgets": [],
       "type": "html"
      }
     },
     "output_type": "display_data"
    }
   ],
   "source": [
    "df_lto_agg.count()"
   ]
  },
  {
   "cell_type": "code",
   "execution_count": 2,
   "metadata": {
    "application/vnd.databricks.v1+cell": {
     "inputWidgets": {},
     "nuid": "bf2aec0e-d780-4f93-8be4-f9cf47d8a33a",
     "showTitle": false,
     "title": ""
    }
   },
   "outputs": [],
   "source": [
    "#display(df_lto_agg)"
   ]
  },
  {
   "cell_type": "code",
   "execution_count": 0,
   "metadata": {
    "application/vnd.databricks.v1+cell": {
     "inputWidgets": {},
     "nuid": "7b869a79-c27e-459e-990d-33157a324e9f",
     "showTitle": false,
     "title": ""
    }
   },
   "outputs": [
    {
     "data": {
      "text/html": [
       "<style scoped>\n",
       "  .ansiout {\n",
       "    display: block;\n",
       "    unicode-bidi: embed;\n",
       "    white-space: pre-wrap;\n",
       "    word-wrap: break-word;\n",
       "    word-break: break-all;\n",
       "    font-family: \"Source Code Pro\", \"Menlo\", monospace;;\n",
       "    font-size: 13px;\n",
       "    color: #555;\n",
       "    margin-left: 4px;\n",
       "    line-height: 19px;\n",
       "  }\n",
       "</style>\n",
       "<div class=\"ansiout\"></div>"
      ]
     },
     "metadata": {
      "application/vnd.databricks.v1+output": {
       "addedWidgets": {},
       "arguments": {},
       "data": "<div class=\"ansiout\"></div>",
       "datasetInfos": [],
       "removedWidgets": [],
       "type": "html"
      }
     },
     "output_type": "display_data"
    }
   ],
   "source": [
    "#df_lto.where(col(\"LTO\")==1).groupBy(\"LTO\", \"CATEGORY\").count().show()"
   ]
  },
  {
   "cell_type": "markdown",
   "metadata": {
    "application/vnd.databricks.v1+cell": {
     "inputWidgets": {},
     "nuid": "14279355-762e-46d5-8f27-e2b0bb89194b",
     "showTitle": false,
     "title": ""
    }
   },
   "source": [
    "Look into percentage of LTOs by category"
   ]
  },
  {
   "cell_type": "code",
   "execution_count": 0,
   "metadata": {
    "application/vnd.databricks.v1+cell": {
     "inputWidgets": {},
     "nuid": "45b63d60-3ec7-4c38-8544-6af76e991c85",
     "showTitle": false,
     "title": ""
    }
   },
   "outputs": [
    {
     "data": {
      "text/html": [
       "<style scoped>\n",
       "  .ansiout {\n",
       "    display: block;\n",
       "    unicode-bidi: embed;\n",
       "    white-space: pre-wrap;\n",
       "    word-wrap: break-word;\n",
       "    word-break: break-all;\n",
       "    font-family: \"Source Code Pro\", \"Menlo\", monospace;;\n",
       "    font-size: 13px;\n",
       "    color: #555;\n",
       "    margin-left: 4px;\n",
       "    line-height: 19px;\n",
       "  }\n",
       "</style>\n",
       "<div class=\"ansiout\"></div>"
      ]
     },
     "metadata": {
      "application/vnd.databricks.v1+output": {
       "addedWidgets": {},
       "arguments": {},
       "data": "<div class=\"ansiout\"></div>",
       "datasetInfos": [
        {
         "name": "df_lto_cat",
         "schema": {
          "fields": [
           {
            "metadata": {},
            "name": "CAL_TPO_YEAR",
            "nullable": true,
            "type": "string"
           },
           {
            "metadata": {},
            "name": "BN_REGION",
            "nullable": true,
            "type": "string"
           },
           {
            "metadata": {},
            "name": "LTO",
            "nullable": false,
            "type": "integer"
           },
           {
            "metadata": {},
            "name": "sum(SALES)",
            "nullable": true,
            "type": "double"
           }
          ],
          "type": "struct"
         },
         "tableIdentifier": null,
         "typeStr": "pyspark.sql.dataframe.DataFrame"
        }
       ],
       "removedWidgets": [],
       "type": "html"
      }
     },
     "output_type": "display_data"
    }
   ],
   "source": [
    "df_lto_cat = df_lto.where((col(\"CATEGORY\")=='ALTERNATIVE BEVERAGES') | (col(\"CATEGORY\")=='ISOTONICS') | (col(\"CATEGORY\")=='CARBONATED SOFT DRINKS')).select(df_lto.SALES.cast('float').alias('SALES'),\"CAL_TPO_YEAR\",\"BN_REGION\",\"LTO\").groupBy(\"CAL_TPO_YEAR\",\"BN_REGION\",\"LTO\").sum(\"SALES\")"
   ]
  },
  {
   "cell_type": "code",
   "execution_count": 1,
   "metadata": {
    "application/vnd.databricks.v1+cell": {
     "inputWidgets": {},
     "nuid": "adff238e-dc1c-4b03-b97b-462326257c7d",
     "showTitle": false,
     "title": ""
    }
   },
   "outputs": [],
   "source": [
    "#display(df_lto_cat)"
   ]
  }
 ],
 "metadata": {
  "application/vnd.databricks.v1+notebook": {
   "dashboards": [],
   "language": "python",
   "notebookName": "MMA804 - Coke Hackathon - Data Preparation",
   "notebookOrigID": 4142578934692208,
   "widgets": {}
  },
  "kernelspec": {
   "display_name": "Python 3",
   "language": "python",
   "name": "python3"
  },
  "language_info": {
   "codemirror_mode": {
    "name": "ipython",
    "version": 3
   },
   "file_extension": ".py",
   "mimetype": "text/x-python",
   "name": "python",
   "nbconvert_exporter": "python",
   "pygments_lexer": "ipython3",
   "version": "3.7.6"
  },
  "toc": {
   "base_numbering": 1,
   "nav_menu": {},
   "number_sections": true,
   "sideBar": true,
   "skip_h1_title": false,
   "title_cell": "Table of Contents",
   "title_sidebar": "Contents",
   "toc_cell": false,
   "toc_position": {},
   "toc_section_display": true,
   "toc_window_display": false
  }
 },
 "nbformat": 4,
 "nbformat_minor": 1
}
