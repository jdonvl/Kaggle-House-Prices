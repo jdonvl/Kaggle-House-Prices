{
 "cells": [
  {
   "cell_type": "code",
   "execution_count": 244,
   "metadata": {},
   "outputs": [],
   "source": [
    "import pandas as pd\n",
    "import numpy as np\n",
    "\n",
    "#https://machinelearningmastery.com/lasso-regression-with-python/\n",
    "# use automatically configured the lasso regression algorithm\n",
    "from numpy import arange\n",
    "from sklearn.linear_model import LassoCV\n",
    "from sklearn.model_selection import RepeatedKFold\n",
    "\n",
    "from sklearn.linear_model import Lasso\n",
    "from sklearn.linear_model import LinearRegression\n",
    "from sklearn.datasets import load_breast_cancer\n",
    "from sklearn.model_selection import train_test_split\n",
    "\n",
    "from sklearn.metrics import mean_squared_error\n",
    "\n"
   ]
  },
  {
   "cell_type": "code",
   "execution_count": 245,
   "metadata": {},
   "outputs": [],
   "source": [
    "prod = pd.read_csv('Product.csv')\n",
    "sales = pd.read_csv('Sales - No Store.csv')"
   ]
  },
  {
   "cell_type": "code",
   "execution_count": 246,
   "metadata": {},
   "outputs": [
    {
     "name": "stdout",
     "output_type": "stream",
     "text": [
      "<class 'pandas.core.frame.DataFrame'>\n",
      "RangeIndex: 1634 entries, 0 to 1633\n",
      "Data columns (total 18 columns):\n",
      " #   Column                 Non-Null Count  Dtype  \n",
      "---  ------                 --------------  -----  \n",
      " 0   UPC                    1634 non-null   int64  \n",
      " 1   TPO_PRODUCT_NAME       1634 non-null   object \n",
      " 2   TPO_PRODUCT_GROUP      1634 non-null   object \n",
      " 3   PRODUCT                1634 non-null   object \n",
      " 4   SIZE_ML                1634 non-null   float64\n",
      " 5   COUNT                  1634 non-null   int64  \n",
      " 6   PACK_TYPE              1634 non-null   object \n",
      " 7   PACK_SUBTYPE           1634 non-null   object \n",
      " 8   PACK_CATEGORY_SUBTYPE  1634 non-null   object \n",
      " 9   TYPE                   1634 non-null   object \n",
      " 10  SWEETNER               1634 non-null   object \n",
      " 11  FLAVOUR                1631 non-null   object \n",
      " 12  CATEGORY               1634 non-null   object \n",
      " 13  INNOVATION_TYPE        523 non-null    object \n",
      " 14  START_YEAR             281 non-null    float64\n",
      " 15  START_WEEK             281 non-null    float64\n",
      " 16  END_YEAR               355 non-null    float64\n",
      " 17  END_WEEK               355 non-null    float64\n",
      "dtypes: float64(5), int64(2), object(11)\n",
      "memory usage: 229.9+ KB\n"
     ]
    }
   ],
   "source": [
    "prod.info()"
   ]
  },
  {
   "cell_type": "code",
   "execution_count": 247,
   "metadata": {},
   "outputs": [],
   "source": [
    "prod = prod[prod['INNOVATION_TYPE']==\"LTO\"]"
   ]
  },
  {
   "cell_type": "code",
   "execution_count": 248,
   "metadata": {},
   "outputs": [],
   "source": [
    "def weeks_between(df):\n",
    "    if df['START_YEAR']==df['END_YEAR']:\n",
    "        return df['END_WEEK']-df['START_WEEK']\n",
    "    else:\n",
    "        return df['END_WEEK']+(52-df['START_WEEK'])"
   ]
  },
  {
   "cell_type": "code",
   "execution_count": 249,
   "metadata": {},
   "outputs": [],
   "source": [
    "prod['LTO_Duration'] = prod.apply(weeks_between, axis=1)"
   ]
  },
  {
   "cell_type": "code",
   "execution_count": 250,
   "metadata": {},
   "outputs": [],
   "source": [
    "def flavours(df):\n",
    "    if df['FLAVOUR']==\"CHERRY\" or df['FLAVOUR']==\"VANILLA\" or df['FLAVOUR']==\"CRANBERRY\":\n",
    "        return df['FLAVOUR']\n",
    "    else:\n",
    "        return \"OTHER\""
   ]
  },
  {
   "cell_type": "code",
   "execution_count": 251,
   "metadata": {},
   "outputs": [],
   "source": [
    "prod['FLAVOUR'] = prod.apply(flavours, axis=1)"
   ]
  },
  {
   "cell_type": "code",
   "execution_count": 1,
   "metadata": {},
   "outputs": [],
   "source": [
    "#prod[prod['CATEGORY']==\"ISOTONICS\"]"
   ]
  },
  {
   "cell_type": "code",
   "execution_count": 2,
   "metadata": {},
   "outputs": [],
   "source": [
    "#prod.head(50)"
   ]
  },
  {
   "cell_type": "code",
   "execution_count": 254,
   "metadata": {},
   "outputs": [],
   "source": [
    "prod['START_YEARWK'] = prod.apply(lambda x: (str(int(x['START_YEAR']))+str(int(x['START_WEEK'])).zfill(2)), axis=1)"
   ]
  },
  {
   "cell_type": "code",
   "execution_count": 255,
   "metadata": {},
   "outputs": [],
   "source": [
    "prod['END_YEARWK'] = prod.apply(lambda x: (str(int(x['END_YEAR']))+str(int(x['END_WEEK'])).zfill(2)), axis=1)"
   ]
  },
  {
   "cell_type": "code",
   "execution_count": 256,
   "metadata": {},
   "outputs": [],
   "source": [
    "prod['CATEGORY_O']=prod['CATEGORY']"
   ]
  },
  {
   "cell_type": "code",
   "execution_count": 3,
   "metadata": {},
   "outputs": [],
   "source": [
    "#sales.head()"
   ]
  },
  {
   "cell_type": "code",
   "execution_count": 258,
   "metadata": {},
   "outputs": [],
   "source": [
    "prod = pd.get_dummies(prod, columns=['CATEGORY_O','PRODUCT','PACK_TYPE','FLAVOUR'], prefix=\"LTO\")"
   ]
  },
  {
   "cell_type": "code",
   "execution_count": 259,
   "metadata": {
    "scrolled": true
   },
   "outputs": [
    {
     "name": "stdout",
     "output_type": "stream",
     "text": [
      "<class 'pandas.core.frame.DataFrame'>\n",
      "RangeIndex: 4160 entries, 0 to 4159\n",
      "Data columns (total 8 columns):\n",
      " #   Column         Non-Null Count  Dtype  \n",
      "---  ------         --------------  -----  \n",
      " 0   CATEGORY       4159 non-null   object \n",
      " 1   CAL_TPO_YEAR   4159 non-null   float64\n",
      " 2   CAL_TPO_MONTH  4159 non-null   float64\n",
      " 3   CAL_TPO_WEEK   4159 non-null   float64\n",
      " 4   CAL_WEEK_TYPE  2499 non-null   object \n",
      " 5   BN_REGION      4159 non-null   object \n",
      " 6   sum(SALES)     4159 non-null   float64\n",
      " 7   percent_deals  4160 non-null   float64\n",
      "dtypes: float64(5), object(3)\n",
      "memory usage: 260.1+ KB\n"
     ]
    }
   ],
   "source": [
    "sales.info()"
   ]
  },
  {
   "cell_type": "code",
   "execution_count": 260,
   "metadata": {},
   "outputs": [],
   "source": [
    "sales=sales.dropna(subset=[\"CATEGORY\"])"
   ]
  },
  {
   "cell_type": "code",
   "execution_count": 261,
   "metadata": {
    "scrolled": false
   },
   "outputs": [],
   "source": [
    "sales['YEARWK'] = sales.apply(lambda x: (str(int(x['CAL_TPO_YEAR']))+str(int(x['CAL_TPO_WEEK'])).zfill(2)), axis=1)"
   ]
  },
  {
   "cell_type": "code",
   "execution_count": 262,
   "metadata": {},
   "outputs": [],
   "source": [
    "sales=sales.fillna({'CAL_WEEK_TYPE':\"Regular\"})"
   ]
  },
  {
   "cell_type": "code",
   "execution_count": 263,
   "metadata": {
    "scrolled": true
   },
   "outputs": [
    {
     "data": {
      "text/html": [
       "<div>\n",
       "<style scoped>\n",
       "    .dataframe tbody tr th:only-of-type {\n",
       "        vertical-align: middle;\n",
       "    }\n",
       "\n",
       "    .dataframe tbody tr th {\n",
       "        vertical-align: top;\n",
       "    }\n",
       "\n",
       "    .dataframe thead th {\n",
       "        text-align: right;\n",
       "    }\n",
       "</style>\n",
       "<table border=\"1\" class=\"dataframe\">\n",
       "  <thead>\n",
       "    <tr style=\"text-align: right;\">\n",
       "      <th></th>\n",
       "      <th>CATEGORY</th>\n",
       "      <th>CAL_TPO_YEAR</th>\n",
       "      <th>CAL_TPO_MONTH</th>\n",
       "      <th>CAL_TPO_WEEK</th>\n",
       "      <th>CAL_WEEK_TYPE</th>\n",
       "      <th>BN_REGION</th>\n",
       "      <th>sum(SALES)</th>\n",
       "      <th>percent_deals</th>\n",
       "      <th>YEARWK</th>\n",
       "    </tr>\n",
       "  </thead>\n",
       "  <tbody>\n",
       "    <tr>\n",
       "      <th>0</th>\n",
       "      <td>ALTERNATIVE BEVERAGES</td>\n",
       "      <td>2019.0</td>\n",
       "      <td>3.0</td>\n",
       "      <td>9.0</td>\n",
       "      <td>Regular</td>\n",
       "      <td>ONTARIO</td>\n",
       "      <td>2.458018e+05</td>\n",
       "      <td>0.000000</td>\n",
       "      <td>201909</td>\n",
       "    </tr>\n",
       "    <tr>\n",
       "      <th>1</th>\n",
       "      <td>ALTERNATIVE BEVERAGES</td>\n",
       "      <td>2019.0</td>\n",
       "      <td>7.0</td>\n",
       "      <td>27.0</td>\n",
       "      <td>Post-holiday</td>\n",
       "      <td>EAST</td>\n",
       "      <td>4.764324e+04</td>\n",
       "      <td>0.603952</td>\n",
       "      <td>201927</td>\n",
       "    </tr>\n",
       "    <tr>\n",
       "      <th>2</th>\n",
       "      <td>CARBONATED SOFT DRINKS</td>\n",
       "      <td>2018.0</td>\n",
       "      <td>1.0</td>\n",
       "      <td>4.0</td>\n",
       "      <td>Pre-holiday</td>\n",
       "      <td>EAST</td>\n",
       "      <td>7.210700e+05</td>\n",
       "      <td>0.169159</td>\n",
       "      <td>201804</td>\n",
       "    </tr>\n",
       "    <tr>\n",
       "      <th>3</th>\n",
       "      <td>CARBONATED SOFT DRINKS</td>\n",
       "      <td>2018.0</td>\n",
       "      <td>4.0</td>\n",
       "      <td>16.0</td>\n",
       "      <td>Regular</td>\n",
       "      <td>EAST</td>\n",
       "      <td>8.439480e+05</td>\n",
       "      <td>0.000000</td>\n",
       "      <td>201816</td>\n",
       "    </tr>\n",
       "    <tr>\n",
       "      <th>4</th>\n",
       "      <td>CARBONATED SOFT DRINKS</td>\n",
       "      <td>2019.0</td>\n",
       "      <td>11.0</td>\n",
       "      <td>45.0</td>\n",
       "      <td>Regular</td>\n",
       "      <td>QUEBEC</td>\n",
       "      <td>1.825419e+06</td>\n",
       "      <td>0.000000</td>\n",
       "      <td>201945</td>\n",
       "    </tr>\n",
       "  </tbody>\n",
       "</table>\n",
       "</div>"
      ],
      "text/plain": [
       "                 CATEGORY  CAL_TPO_YEAR  CAL_TPO_MONTH  CAL_TPO_WEEK  \\\n",
       "0   ALTERNATIVE BEVERAGES        2019.0            3.0           9.0   \n",
       "1   ALTERNATIVE BEVERAGES        2019.0            7.0          27.0   \n",
       "2  CARBONATED SOFT DRINKS        2018.0            1.0           4.0   \n",
       "3  CARBONATED SOFT DRINKS        2018.0            4.0          16.0   \n",
       "4  CARBONATED SOFT DRINKS        2019.0           11.0          45.0   \n",
       "\n",
       "  CAL_WEEK_TYPE BN_REGION    sum(SALES)  percent_deals  YEARWK  \n",
       "0       Regular   ONTARIO  2.458018e+05       0.000000  201909  \n",
       "1  Post-holiday      EAST  4.764324e+04       0.603952  201927  \n",
       "2   Pre-holiday      EAST  7.210700e+05       0.169159  201804  \n",
       "3       Regular      EAST  8.439480e+05       0.000000  201816  \n",
       "4       Regular    QUEBEC  1.825419e+06       0.000000  201945  "
      ]
     },
     "execution_count": 263,
     "metadata": {},
     "output_type": "execute_result"
    }
   ],
   "source": [
    "#sales.head()"
   ]
  },
  {
   "cell_type": "code",
   "execution_count": 264,
   "metadata": {},
   "outputs": [
    {
     "name": "stdout",
     "output_type": "stream",
     "text": [
      "<class 'pandas.core.frame.DataFrame'>\n",
      "Int64Index: 66 entries, 45 to 1620\n",
      "Data columns (total 37 columns):\n",
      " #   Column                      Non-Null Count  Dtype  \n",
      "---  ------                      --------------  -----  \n",
      " 0   UPC                         66 non-null     int64  \n",
      " 1   TPO_PRODUCT_NAME            66 non-null     object \n",
      " 2   TPO_PRODUCT_GROUP           66 non-null     object \n",
      " 3   SIZE_ML                     66 non-null     float64\n",
      " 4   COUNT                       66 non-null     int64  \n",
      " 5   PACK_SUBTYPE                66 non-null     object \n",
      " 6   PACK_CATEGORY_SUBTYPE       66 non-null     object \n",
      " 7   TYPE                        66 non-null     object \n",
      " 8   SWEETNER                    66 non-null     object \n",
      " 9   CATEGORY                    66 non-null     object \n",
      " 10  INNOVATION_TYPE             66 non-null     object \n",
      " 11  START_YEAR                  66 non-null     float64\n",
      " 12  START_WEEK                  66 non-null     float64\n",
      " 13  END_YEAR                    66 non-null     float64\n",
      " 14  END_WEEK                    66 non-null     float64\n",
      " 15  LTO_Duration                66 non-null     float64\n",
      " 16  START_YEARWK                66 non-null     object \n",
      " 17  END_YEARWK                  66 non-null     object \n",
      " 18  LTO_ALTERNATIVE BEVERAGES   66 non-null     uint8  \n",
      " 19  LTO_CARBONATED SOFT DRINKS  66 non-null     uint8  \n",
      " 20  LTO_ISOTONICS               66 non-null     uint8  \n",
      " 21  LTO_A&W                     66 non-null     uint8  \n",
      " 22  LTO_BARQ'S                  66 non-null     uint8  \n",
      " 23  LTO_CANADA DRY              66 non-null     uint8  \n",
      " 24  LTO_CANADA DRY MOTTS        66 non-null     uint8  \n",
      " 25  LTO_COCA-COLA               66 non-null     uint8  \n",
      " 26  LTO_FANTA                   66 non-null     uint8  \n",
      " 27  LTO_FRUITWATER              66 non-null     uint8  \n",
      " 28  LTO_POWERADE                66 non-null     uint8  \n",
      " 29  LTO_SPRITE                  66 non-null     uint8  \n",
      " 30  LTO_VITAMINWATER            66 non-null     uint8  \n",
      " 31  LTO_FC                      66 non-null     uint8  \n",
      " 32  LTO_IC                      66 non-null     uint8  \n",
      " 33  LTO_CHERRY                  66 non-null     uint8  \n",
      " 34  LTO_CRANBERRY               66 non-null     uint8  \n",
      " 35  LTO_OTHER                   66 non-null     uint8  \n",
      " 36  LTO_VANILLA                 66 non-null     uint8  \n",
      "dtypes: float64(6), int64(2), object(10), uint8(19)\n",
      "memory usage: 11.0+ KB\n"
     ]
    }
   ],
   "source": [
    "prod.info()"
   ]
  },
  {
   "cell_type": "code",
   "execution_count": 265,
   "metadata": {},
   "outputs": [],
   "source": [
    "prod = prod[['CATEGORY','START_YEARWK','END_YEARWK','LTO_Duration','LTO_ALTERNATIVE BEVERAGES','LTO_CARBONATED SOFT DRINKS',\n",
    "             'LTO_ISOTONICS', 'LTO_FRUITWATER', 'LTO_VITAMINWATER', 'LTO_A&W', \"LTO_BARQ'S\", 'LTO_CANADA DRY', 'LTO_CANADA DRY MOTTS', 'LTO_COCA-COLA', 'LTO_FANTA', 'LTO_SPRITE', 'LTO_POWERADE',\n",
    "             'LTO_FC','LTO_IC','LTO_CHERRY','LTO_CRANBERRY','LTO_OTHER','LTO_VANILLA'\n",
    "            \n",
    "            ]]"
   ]
  },
  {
   "cell_type": "code",
   "execution_count": 266,
   "metadata": {
    "scrolled": false
   },
   "outputs": [
    {
     "name": "stdout",
     "output_type": "stream",
     "text": [
      "<class 'pandas.core.frame.DataFrame'>\n",
      "Int64Index: 4159 entries, 0 to 4159\n",
      "Data columns (total 9 columns):\n",
      " #   Column         Non-Null Count  Dtype  \n",
      "---  ------         --------------  -----  \n",
      " 0   CATEGORY       4159 non-null   object \n",
      " 1   CAL_TPO_YEAR   4159 non-null   float64\n",
      " 2   CAL_TPO_MONTH  4159 non-null   float64\n",
      " 3   CAL_TPO_WEEK   4159 non-null   float64\n",
      " 4   CAL_WEEK_TYPE  4159 non-null   object \n",
      " 5   BN_REGION      4159 non-null   object \n",
      " 6   sum(SALES)     4159 non-null   float64\n",
      " 7   percent_deals  4159 non-null   float64\n",
      " 8   YEARWK         4159 non-null   object \n",
      "dtypes: float64(5), object(4)\n",
      "memory usage: 324.9+ KB\n"
     ]
    }
   ],
   "source": [
    "sales.info()"
   ]
  },
  {
   "cell_type": "code",
   "execution_count": 267,
   "metadata": {},
   "outputs": [
    {
     "name": "stdout",
     "output_type": "stream",
     "text": [
      "<class 'pandas.core.frame.DataFrame'>\n",
      "Int64Index: 66 entries, 45 to 1620\n",
      "Data columns (total 23 columns):\n",
      " #   Column                      Non-Null Count  Dtype  \n",
      "---  ------                      --------------  -----  \n",
      " 0   CATEGORY                    66 non-null     object \n",
      " 1   START_YEARWK                66 non-null     object \n",
      " 2   END_YEARWK                  66 non-null     object \n",
      " 3   LTO_Duration                66 non-null     float64\n",
      " 4   LTO_ALTERNATIVE BEVERAGES   66 non-null     uint8  \n",
      " 5   LTO_CARBONATED SOFT DRINKS  66 non-null     uint8  \n",
      " 6   LTO_ISOTONICS               66 non-null     uint8  \n",
      " 7   LTO_FRUITWATER              66 non-null     uint8  \n",
      " 8   LTO_VITAMINWATER            66 non-null     uint8  \n",
      " 9   LTO_A&W                     66 non-null     uint8  \n",
      " 10  LTO_BARQ'S                  66 non-null     uint8  \n",
      " 11  LTO_CANADA DRY              66 non-null     uint8  \n",
      " 12  LTO_CANADA DRY MOTTS        66 non-null     uint8  \n",
      " 13  LTO_COCA-COLA               66 non-null     uint8  \n",
      " 14  LTO_FANTA                   66 non-null     uint8  \n",
      " 15  LTO_SPRITE                  66 non-null     uint8  \n",
      " 16  LTO_POWERADE                66 non-null     uint8  \n",
      " 17  LTO_FC                      66 non-null     uint8  \n",
      " 18  LTO_IC                      66 non-null     uint8  \n",
      " 19  LTO_CHERRY                  66 non-null     uint8  \n",
      " 20  LTO_CRANBERRY               66 non-null     uint8  \n",
      " 21  LTO_OTHER                   66 non-null     uint8  \n",
      " 22  LTO_VANILLA                 66 non-null     uint8  \n",
      "dtypes: float64(1), object(3), uint8(19)\n",
      "memory usage: 3.8+ KB\n"
     ]
    }
   ],
   "source": [
    "prod.info()"
   ]
  },
  {
   "cell_type": "code",
   "execution_count": 268,
   "metadata": {},
   "outputs": [],
   "source": [
    "import pandasql as ps\n",
    "\n",
    "sqlcode = '''\n",
    "select sales.*, (sum([LTO_ALTERNATIVE BEVERAGES])+sum([LTO_CARBONATED SOFT DRINKS])+sum([LTO_ISOTONICS])) AS LTOS ,avg(LTO_Duration) as LTO_AVG_WKS,\n",
    "sum([LTO_ALTERNATIVE BEVERAGES]) AS LTO_ALTS, sum([LTO_CARBONATED SOFT DRINKS]) AS LTO_CARBONATED, \n",
    "sum([LTO_ISOTONICS]) AS LTO_ISOS,\n",
    "sum([LTO_FRUITWATER]) AS LTO_FR,\n",
    "sum([LTO_VITAMINWATER]) AS LTO_VW,\n",
    "sum([LTO_A&W]) AS LTO_AW,\n",
    "sum([LTO_BARQ'S]) AS LTO_BAR,\n",
    "sum([LTO_CANADA DRY]) AS LTO_CAN,\n",
    "sum([LTO_CANADA DRY MOTTS]) AS LTO_CDM,\n",
    "sum([LTO_COCA-COLA]) AS LTO_COK,\n",
    "sum([LTO_FANTA]) AS LTO_FAN,\n",
    "sum([LTO_SPRITE]) AS LTO_SPR,\n",
    "sum([LTO_POWERADE]) AS LTO_POW,\n",
    "sum([LTO_FC]) AS LTO_FC_PK,\n",
    "sum([LTO_IC]) AS LTO_IC_PK,\n",
    "sum([LTO_CHERRY]) AS LTO_CHER,\n",
    "sum([LTO_CRANBERRY]) AS LTO_CRAN,\n",
    "sum([LTO_VANILLA]) AS LTO_VAN,\n",
    "sum([LTO_OTHER]) AS LTO_OTH\n",
    "\n",
    "\n",
    "\n",
    "from sales left join prod on \n",
    "(sales.YEARWK>=prod.START_YEARWK and sales.YEARWK<=prod.END_YEARWK) AND sales.CATEGORY=prod.CATEGORY\n",
    "group by sales.CATEGORY, sales.CAL_TPO_YEAR, sales.CAL_TPO_MONTH, sales.CAL_TPO_WEEK, sales.CAL_WEEK_TYPE,\n",
    "sales.BN_REGION, sales.[sum(SALES)],sales.percent_deals\n",
    "'''\n",
    "\n",
    "df = ps.sqldf(sqlcode,locals())"
   ]
  },
  {
   "cell_type": "code",
   "execution_count": 269,
   "metadata": {},
   "outputs": [],
   "source": [
    "df=df.fillna(0)"
   ]
  },
  {
   "cell_type": "code",
   "execution_count": 270,
   "metadata": {
    "scrolled": false
   },
   "outputs": [
    {
     "data": {
      "text/html": [
       "<div>\n",
       "<style scoped>\n",
       "    .dataframe tbody tr th:only-of-type {\n",
       "        vertical-align: middle;\n",
       "    }\n",
       "\n",
       "    .dataframe tbody tr th {\n",
       "        vertical-align: top;\n",
       "    }\n",
       "\n",
       "    .dataframe thead th {\n",
       "        text-align: right;\n",
       "    }\n",
       "</style>\n",
       "<table border=\"1\" class=\"dataframe\">\n",
       "  <thead>\n",
       "    <tr style=\"text-align: right;\">\n",
       "      <th></th>\n",
       "      <th>CATEGORY</th>\n",
       "      <th>CAL_TPO_YEAR</th>\n",
       "      <th>CAL_TPO_MONTH</th>\n",
       "      <th>CAL_TPO_WEEK</th>\n",
       "      <th>CAL_WEEK_TYPE</th>\n",
       "      <th>BN_REGION</th>\n",
       "      <th>sum(SALES)</th>\n",
       "      <th>percent_deals</th>\n",
       "      <th>YEARWK</th>\n",
       "      <th>LTOS</th>\n",
       "      <th>...</th>\n",
       "      <th>LTO_COK</th>\n",
       "      <th>LTO_FAN</th>\n",
       "      <th>LTO_SPR</th>\n",
       "      <th>LTO_POW</th>\n",
       "      <th>LTO_FC_PK</th>\n",
       "      <th>LTO_IC_PK</th>\n",
       "      <th>LTO_CHER</th>\n",
       "      <th>LTO_CRAN</th>\n",
       "      <th>LTO_VAN</th>\n",
       "      <th>LTO_OTH</th>\n",
       "    </tr>\n",
       "  </thead>\n",
       "  <tbody>\n",
       "    <tr>\n",
       "      <th>292</th>\n",
       "      <td>ALTERNATIVE BEVERAGES</td>\n",
       "      <td>2019.0</td>\n",
       "      <td>6.0</td>\n",
       "      <td>22.0</td>\n",
       "      <td>Regular</td>\n",
       "      <td>EAST</td>\n",
       "      <td>35585.019798</td>\n",
       "      <td>0.0</td>\n",
       "      <td>201922</td>\n",
       "      <td>4.0</td>\n",
       "      <td>...</td>\n",
       "      <td>0.0</td>\n",
       "      <td>0.0</td>\n",
       "      <td>0.0</td>\n",
       "      <td>0.0</td>\n",
       "      <td>1.0</td>\n",
       "      <td>3.0</td>\n",
       "      <td>0.0</td>\n",
       "      <td>0.0</td>\n",
       "      <td>0.0</td>\n",
       "      <td>4.0</td>\n",
       "    </tr>\n",
       "    <tr>\n",
       "      <th>293</th>\n",
       "      <td>ALTERNATIVE BEVERAGES</td>\n",
       "      <td>2019.0</td>\n",
       "      <td>6.0</td>\n",
       "      <td>22.0</td>\n",
       "      <td>Regular</td>\n",
       "      <td>ONTARIO</td>\n",
       "      <td>246435.849880</td>\n",
       "      <td>0.0</td>\n",
       "      <td>201922</td>\n",
       "      <td>4.0</td>\n",
       "      <td>...</td>\n",
       "      <td>0.0</td>\n",
       "      <td>0.0</td>\n",
       "      <td>0.0</td>\n",
       "      <td>0.0</td>\n",
       "      <td>1.0</td>\n",
       "      <td>3.0</td>\n",
       "      <td>0.0</td>\n",
       "      <td>0.0</td>\n",
       "      <td>0.0</td>\n",
       "      <td>4.0</td>\n",
       "    </tr>\n",
       "    <tr>\n",
       "      <th>294</th>\n",
       "      <td>ALTERNATIVE BEVERAGES</td>\n",
       "      <td>2019.0</td>\n",
       "      <td>6.0</td>\n",
       "      <td>22.0</td>\n",
       "      <td>Regular</td>\n",
       "      <td>QUEBEC</td>\n",
       "      <td>92506.879851</td>\n",
       "      <td>0.0</td>\n",
       "      <td>201922</td>\n",
       "      <td>4.0</td>\n",
       "      <td>...</td>\n",
       "      <td>0.0</td>\n",
       "      <td>0.0</td>\n",
       "      <td>0.0</td>\n",
       "      <td>0.0</td>\n",
       "      <td>1.0</td>\n",
       "      <td>3.0</td>\n",
       "      <td>0.0</td>\n",
       "      <td>0.0</td>\n",
       "      <td>0.0</td>\n",
       "      <td>4.0</td>\n",
       "    </tr>\n",
       "    <tr>\n",
       "      <th>295</th>\n",
       "      <td>ALTERNATIVE BEVERAGES</td>\n",
       "      <td>2019.0</td>\n",
       "      <td>6.0</td>\n",
       "      <td>22.0</td>\n",
       "      <td>Regular</td>\n",
       "      <td>WEST</td>\n",
       "      <td>253107.969649</td>\n",
       "      <td>0.0</td>\n",
       "      <td>201922</td>\n",
       "      <td>4.0</td>\n",
       "      <td>...</td>\n",
       "      <td>0.0</td>\n",
       "      <td>0.0</td>\n",
       "      <td>0.0</td>\n",
       "      <td>0.0</td>\n",
       "      <td>1.0</td>\n",
       "      <td>3.0</td>\n",
       "      <td>0.0</td>\n",
       "      <td>0.0</td>\n",
       "      <td>0.0</td>\n",
       "      <td>4.0</td>\n",
       "    </tr>\n",
       "    <tr>\n",
       "      <th>296</th>\n",
       "      <td>ALTERNATIVE BEVERAGES</td>\n",
       "      <td>2019.0</td>\n",
       "      <td>6.0</td>\n",
       "      <td>23.0</td>\n",
       "      <td>Regular</td>\n",
       "      <td>EAST</td>\n",
       "      <td>38998.639781</td>\n",
       "      <td>0.0</td>\n",
       "      <td>201923</td>\n",
       "      <td>4.0</td>\n",
       "      <td>...</td>\n",
       "      <td>0.0</td>\n",
       "      <td>0.0</td>\n",
       "      <td>0.0</td>\n",
       "      <td>0.0</td>\n",
       "      <td>1.0</td>\n",
       "      <td>3.0</td>\n",
       "      <td>0.0</td>\n",
       "      <td>0.0</td>\n",
       "      <td>0.0</td>\n",
       "      <td>4.0</td>\n",
       "    </tr>\n",
       "    <tr>\n",
       "      <th>...</th>\n",
       "      <td>...</td>\n",
       "      <td>...</td>\n",
       "      <td>...</td>\n",
       "      <td>...</td>\n",
       "      <td>...</td>\n",
       "      <td>...</td>\n",
       "      <td>...</td>\n",
       "      <td>...</td>\n",
       "      <td>...</td>\n",
       "      <td>...</td>\n",
       "      <td>...</td>\n",
       "      <td>...</td>\n",
       "      <td>...</td>\n",
       "      <td>...</td>\n",
       "      <td>...</td>\n",
       "      <td>...</td>\n",
       "      <td>...</td>\n",
       "      <td>...</td>\n",
       "      <td>...</td>\n",
       "      <td>...</td>\n",
       "      <td>...</td>\n",
       "    </tr>\n",
       "    <tr>\n",
       "      <th>1982</th>\n",
       "      <td>ISOTONICS</td>\n",
       "      <td>2019.0</td>\n",
       "      <td>7.0</td>\n",
       "      <td>28.0</td>\n",
       "      <td>Regular</td>\n",
       "      <td>WEST</td>\n",
       "      <td>200424.209724</td>\n",
       "      <td>0.0</td>\n",
       "      <td>201928</td>\n",
       "      <td>2.0</td>\n",
       "      <td>...</td>\n",
       "      <td>0.0</td>\n",
       "      <td>0.0</td>\n",
       "      <td>0.0</td>\n",
       "      <td>2.0</td>\n",
       "      <td>0.0</td>\n",
       "      <td>2.0</td>\n",
       "      <td>0.0</td>\n",
       "      <td>0.0</td>\n",
       "      <td>0.0</td>\n",
       "      <td>2.0</td>\n",
       "    </tr>\n",
       "    <tr>\n",
       "      <th>1983</th>\n",
       "      <td>ISOTONICS</td>\n",
       "      <td>2019.0</td>\n",
       "      <td>7.0</td>\n",
       "      <td>29.0</td>\n",
       "      <td>Regular</td>\n",
       "      <td>EAST</td>\n",
       "      <td>92285.580068</td>\n",
       "      <td>0.0</td>\n",
       "      <td>201929</td>\n",
       "      <td>2.0</td>\n",
       "      <td>...</td>\n",
       "      <td>0.0</td>\n",
       "      <td>0.0</td>\n",
       "      <td>0.0</td>\n",
       "      <td>2.0</td>\n",
       "      <td>0.0</td>\n",
       "      <td>2.0</td>\n",
       "      <td>0.0</td>\n",
       "      <td>0.0</td>\n",
       "      <td>0.0</td>\n",
       "      <td>2.0</td>\n",
       "    </tr>\n",
       "    <tr>\n",
       "      <th>1984</th>\n",
       "      <td>ISOTONICS</td>\n",
       "      <td>2019.0</td>\n",
       "      <td>7.0</td>\n",
       "      <td>29.0</td>\n",
       "      <td>Regular</td>\n",
       "      <td>ONTARIO</td>\n",
       "      <td>398384.319901</td>\n",
       "      <td>0.0</td>\n",
       "      <td>201929</td>\n",
       "      <td>2.0</td>\n",
       "      <td>...</td>\n",
       "      <td>0.0</td>\n",
       "      <td>0.0</td>\n",
       "      <td>0.0</td>\n",
       "      <td>2.0</td>\n",
       "      <td>0.0</td>\n",
       "      <td>2.0</td>\n",
       "      <td>0.0</td>\n",
       "      <td>0.0</td>\n",
       "      <td>0.0</td>\n",
       "      <td>2.0</td>\n",
       "    </tr>\n",
       "    <tr>\n",
       "      <th>1985</th>\n",
       "      <td>ISOTONICS</td>\n",
       "      <td>2019.0</td>\n",
       "      <td>7.0</td>\n",
       "      <td>29.0</td>\n",
       "      <td>Regular</td>\n",
       "      <td>QUEBEC</td>\n",
       "      <td>170861.580054</td>\n",
       "      <td>0.0</td>\n",
       "      <td>201929</td>\n",
       "      <td>2.0</td>\n",
       "      <td>...</td>\n",
       "      <td>0.0</td>\n",
       "      <td>0.0</td>\n",
       "      <td>0.0</td>\n",
       "      <td>2.0</td>\n",
       "      <td>0.0</td>\n",
       "      <td>2.0</td>\n",
       "      <td>0.0</td>\n",
       "      <td>0.0</td>\n",
       "      <td>0.0</td>\n",
       "      <td>2.0</td>\n",
       "    </tr>\n",
       "    <tr>\n",
       "      <th>1986</th>\n",
       "      <td>ISOTONICS</td>\n",
       "      <td>2019.0</td>\n",
       "      <td>7.0</td>\n",
       "      <td>29.0</td>\n",
       "      <td>Regular</td>\n",
       "      <td>WEST</td>\n",
       "      <td>195891.869782</td>\n",
       "      <td>0.0</td>\n",
       "      <td>201929</td>\n",
       "      <td>2.0</td>\n",
       "      <td>...</td>\n",
       "      <td>0.0</td>\n",
       "      <td>0.0</td>\n",
       "      <td>0.0</td>\n",
       "      <td>2.0</td>\n",
       "      <td>0.0</td>\n",
       "      <td>2.0</td>\n",
       "      <td>0.0</td>\n",
       "      <td>0.0</td>\n",
       "      <td>0.0</td>\n",
       "      <td>2.0</td>\n",
       "    </tr>\n",
       "  </tbody>\n",
       "</table>\n",
       "<p>536 rows × 30 columns</p>\n",
       "</div>"
      ],
      "text/plain": [
       "                   CATEGORY  CAL_TPO_YEAR  CAL_TPO_MONTH  CAL_TPO_WEEK  \\\n",
       "292   ALTERNATIVE BEVERAGES        2019.0            6.0          22.0   \n",
       "293   ALTERNATIVE BEVERAGES        2019.0            6.0          22.0   \n",
       "294   ALTERNATIVE BEVERAGES        2019.0            6.0          22.0   \n",
       "295   ALTERNATIVE BEVERAGES        2019.0            6.0          22.0   \n",
       "296   ALTERNATIVE BEVERAGES        2019.0            6.0          23.0   \n",
       "...                     ...           ...            ...           ...   \n",
       "1982              ISOTONICS        2019.0            7.0          28.0   \n",
       "1983              ISOTONICS        2019.0            7.0          29.0   \n",
       "1984              ISOTONICS        2019.0            7.0          29.0   \n",
       "1985              ISOTONICS        2019.0            7.0          29.0   \n",
       "1986              ISOTONICS        2019.0            7.0          29.0   \n",
       "\n",
       "     CAL_WEEK_TYPE BN_REGION     sum(SALES)  percent_deals  YEARWK  LTOS  ...  \\\n",
       "292        Regular      EAST   35585.019798            0.0  201922   4.0  ...   \n",
       "293        Regular   ONTARIO  246435.849880            0.0  201922   4.0  ...   \n",
       "294        Regular    QUEBEC   92506.879851            0.0  201922   4.0  ...   \n",
       "295        Regular      WEST  253107.969649            0.0  201922   4.0  ...   \n",
       "296        Regular      EAST   38998.639781            0.0  201923   4.0  ...   \n",
       "...            ...       ...            ...            ...     ...   ...  ...   \n",
       "1982       Regular      WEST  200424.209724            0.0  201928   2.0  ...   \n",
       "1983       Regular      EAST   92285.580068            0.0  201929   2.0  ...   \n",
       "1984       Regular   ONTARIO  398384.319901            0.0  201929   2.0  ...   \n",
       "1985       Regular    QUEBEC  170861.580054            0.0  201929   2.0  ...   \n",
       "1986       Regular      WEST  195891.869782            0.0  201929   2.0  ...   \n",
       "\n",
       "      LTO_COK  LTO_FAN  LTO_SPR  LTO_POW  LTO_FC_PK  LTO_IC_PK  LTO_CHER  \\\n",
       "292       0.0      0.0      0.0      0.0        1.0        3.0       0.0   \n",
       "293       0.0      0.0      0.0      0.0        1.0        3.0       0.0   \n",
       "294       0.0      0.0      0.0      0.0        1.0        3.0       0.0   \n",
       "295       0.0      0.0      0.0      0.0        1.0        3.0       0.0   \n",
       "296       0.0      0.0      0.0      0.0        1.0        3.0       0.0   \n",
       "...       ...      ...      ...      ...        ...        ...       ...   \n",
       "1982      0.0      0.0      0.0      2.0        0.0        2.0       0.0   \n",
       "1983      0.0      0.0      0.0      2.0        0.0        2.0       0.0   \n",
       "1984      0.0      0.0      0.0      2.0        0.0        2.0       0.0   \n",
       "1985      0.0      0.0      0.0      2.0        0.0        2.0       0.0   \n",
       "1986      0.0      0.0      0.0      2.0        0.0        2.0       0.0   \n",
       "\n",
       "      LTO_CRAN  LTO_VAN  LTO_OTH  \n",
       "292        0.0      0.0      4.0  \n",
       "293        0.0      0.0      4.0  \n",
       "294        0.0      0.0      4.0  \n",
       "295        0.0      0.0      4.0  \n",
       "296        0.0      0.0      4.0  \n",
       "...        ...      ...      ...  \n",
       "1982       0.0      0.0      2.0  \n",
       "1983       0.0      0.0      2.0  \n",
       "1984       0.0      0.0      2.0  \n",
       "1985       0.0      0.0      2.0  \n",
       "1986       0.0      0.0      2.0  \n",
       "\n",
       "[536 rows x 30 columns]"
      ]
     },
     "execution_count": 270,
     "metadata": {},
     "output_type": "execute_result"
    }
   ],
   "source": [
    "df[df[\"LTOS\"]>1]"
   ]
  },
  {
   "cell_type": "code",
   "execution_count": 271,
   "metadata": {},
   "outputs": [],
   "source": [
    "df = df.rename(columns={\"sum(SALES)\": \"SALES\"})"
   ]
  },
  {
   "cell_type": "code",
   "execution_count": 272,
   "metadata": {},
   "outputs": [],
   "source": [
    "df = pd.get_dummies(df, columns=['BN_REGION'])"
   ]
  },
  {
   "cell_type": "code",
   "execution_count": 273,
   "metadata": {},
   "outputs": [],
   "source": [
    "df['EAST_LTOS']=df['LTOS']*df['BN_REGION_EAST']\n",
    "df['QC_LTOS']=df['LTOS']*df['BN_REGION_QUEBEC']\n",
    "df['WEST_LTOS']=df['LTOS']*df['BN_REGION_WEST']\n",
    "df['ONTARIO_LTOS']=df['LTOS']*df['BN_REGION_ONTARIO']"
   ]
  },
  {
   "cell_type": "markdown",
   "metadata": {},
   "source": [
    "Winter – December, January and February.\n",
    "Spring – March, April and May.\n",
    "Summer – June, July and August.\n",
    "Autumn – September, October and November."
   ]
  },
  {
   "cell_type": "code",
   "execution_count": 274,
   "metadata": {},
   "outputs": [],
   "source": [
    "def seasons(df):\n",
    "    if df['CAL_TPO_MONTH']==12 or df['CAL_TPO_MONTH']==1 or df['CAL_TPO_MONTH']==2:\n",
    "        return \"Winter\"\n",
    "    elif df['CAL_TPO_MONTH']==3 or df['CAL_TPO_MONTH']==4 or df['CAL_TPO_MONTH']==5:\n",
    "        return \"Spring\"\n",
    "    elif df['CAL_TPO_MONTH']==6 or df['CAL_TPO_MONTH']==7 or df['CAL_TPO_MONTH']==8:\n",
    "        return \"Summer\"\n",
    "    elif df['CAL_TPO_MONTH']==9 or df['CAL_TPO_MONTH']==10 or df['CAL_TPO_MONTH']==11:\n",
    "        return \"Fall\""
   ]
  },
  {
   "cell_type": "code",
   "execution_count": 275,
   "metadata": {},
   "outputs": [],
   "source": [
    "df['SEASON'] = df.apply(seasons, axis=1)"
   ]
  },
  {
   "cell_type": "code",
   "execution_count": 276,
   "metadata": {},
   "outputs": [],
   "source": [
    "df = df[(df[\"CATEGORY\"]==\"CARBONATED SOFT DRINKS\")|(df[\"CATEGORY\"]==\"ISOTONICS\")|(df[\"CATEGORY\"]==\"ALTERNATIVE BEVERAGES\")]"
   ]
  },
  {
   "cell_type": "code",
   "execution_count": 277,
   "metadata": {},
   "outputs": [
    {
     "name": "stdout",
     "output_type": "stream",
     "text": [
      "<class 'pandas.core.frame.DataFrame'>\n",
      "Int64Index: 1248 entries, 0 to 2078\n",
      "Data columns (total 38 columns):\n",
      " #   Column             Non-Null Count  Dtype  \n",
      "---  ------             --------------  -----  \n",
      " 0   CATEGORY           1248 non-null   object \n",
      " 1   CAL_TPO_YEAR       1248 non-null   float64\n",
      " 2   CAL_TPO_MONTH      1248 non-null   float64\n",
      " 3   CAL_TPO_WEEK       1248 non-null   float64\n",
      " 4   CAL_WEEK_TYPE      1248 non-null   object \n",
      " 5   SALES              1248 non-null   float64\n",
      " 6   percent_deals      1248 non-null   float64\n",
      " 7   YEARWK             1248 non-null   object \n",
      " 8   LTOS               1248 non-null   float64\n",
      " 9   LTO_AVG_WKS        1248 non-null   float64\n",
      " 10  LTO_ALTS           1248 non-null   float64\n",
      " 11  LTO_CARBONATED     1248 non-null   float64\n",
      " 12  LTO_ISOS           1248 non-null   float64\n",
      " 13  LTO_FR             1248 non-null   float64\n",
      " 14  LTO_VW             1248 non-null   float64\n",
      " 15  LTO_AW             1248 non-null   float64\n",
      " 16  LTO_BAR            1248 non-null   float64\n",
      " 17  LTO_CAN            1248 non-null   float64\n",
      " 18  LTO_CDM            1248 non-null   float64\n",
      " 19  LTO_COK            1248 non-null   float64\n",
      " 20  LTO_FAN            1248 non-null   float64\n",
      " 21  LTO_SPR            1248 non-null   float64\n",
      " 22  LTO_POW            1248 non-null   float64\n",
      " 23  LTO_FC_PK          1248 non-null   float64\n",
      " 24  LTO_IC_PK          1248 non-null   float64\n",
      " 25  LTO_CHER           1248 non-null   float64\n",
      " 26  LTO_CRAN           1248 non-null   float64\n",
      " 27  LTO_VAN            1248 non-null   float64\n",
      " 28  LTO_OTH            1248 non-null   float64\n",
      " 29  BN_REGION_EAST     1248 non-null   uint8  \n",
      " 30  BN_REGION_ONTARIO  1248 non-null   uint8  \n",
      " 31  BN_REGION_QUEBEC   1248 non-null   uint8  \n",
      " 32  BN_REGION_WEST     1248 non-null   uint8  \n",
      " 33  EAST_LTOS          1248 non-null   float64\n",
      " 34  QC_LTOS            1248 non-null   float64\n",
      " 35  WEST_LTOS          1248 non-null   float64\n",
      " 36  ONTARIO_LTOS       1248 non-null   float64\n",
      " 37  SEASON             1248 non-null   object \n",
      "dtypes: float64(30), object(4), uint8(4)\n",
      "memory usage: 346.1+ KB\n"
     ]
    }
   ],
   "source": [
    "df.info()"
   ]
  },
  {
   "cell_type": "code",
   "execution_count": 278,
   "metadata": {},
   "outputs": [],
   "source": [
    "from sklearn.pipeline import Pipeline\n",
    "from sklearn.compose import ColumnTransformer\n",
    "from sklearn.impute import SimpleImputer\n",
    "from sklearn.preprocessing import StandardScaler, OneHotEncoder"
   ]
  },
  {
   "cell_type": "code",
   "execution_count": 279,
   "metadata": {},
   "outputs": [],
   "source": [
    "dep_var = ['SALES']\n",
    "\n",
    "#categorical_vars = ['Pclass', 'Embarked']\n",
    "categorical_vars = ['CAL_TPO_MONTH', 'CAL_WEEK_TYPE','SEASON', 'CATEGORY']\n",
    "\n",
    "discrete_vars = ['LTO_ALTS','LTO_CARBONATED','LTO_ISOS','LTO_FR', 'LTO_VW', 'LTO_AW', 'LTO_BAR', 'LTO_CAN', 'LTO_CDM', 'LTO_COK', 'LTO_FAN', 'LTO_SPR', 'LTO_POW', \n",
    "                 'BN_REGION_ONTARIO','BN_REGION_EAST','BN_REGION_QUEBEC','BN_REGION_WEST', 'ONTARIO_LTOS','EAST_LTOS','QC_LTOS','WEST_LTOS',\n",
    "                 'LTO_FC_PK','LTO_IC_PK','LTO_CHER','LTO_CRAN','LTO_VAN','LTO_OTH'\n",
    "                ]\n",
    "\n",
    "\n",
    "\n",
    "\n",
    "continuous_vars = ['percent_deals','LTO_AVG_WKS']"
   ]
  },
  {
   "cell_type": "code",
   "execution_count": 280,
   "metadata": {},
   "outputs": [],
   "source": [
    "cat_pipe = Pipeline(steps=[\n",
    "    ('imputer', SimpleImputer(strategy=\"most_frequent\")),\n",
    "    ('onehot', OneHotEncoder(handle_unknown='ignore'))])\n",
    "\n",
    "cat_transformers = [('cat', cat_pipe, categorical_vars)]\n",
    "\n",
    "num_pipe = Pipeline(steps=[\n",
    "    ('imputer', SimpleImputer(strategy=\"median\")),\n",
    "])\n",
    "    #('scl', StandardScaler())])\n",
    "\n",
    "num_transformers = [('num', num_pipe, discrete_vars + continuous_vars)]"
   ]
  },
  {
   "cell_type": "code",
   "execution_count": 281,
   "metadata": {},
   "outputs": [],
   "source": [
    "preprocessor = ColumnTransformer(transformers=cat_transformers + num_transformers)"
   ]
  },
  {
   "cell_type": "code",
   "execution_count": 282,
   "metadata": {},
   "outputs": [],
   "source": [
    "X = df[categorical_vars+discrete_vars+continuous_vars]\n",
    "y = df[dep_var]\n",
    "\n",
    "X_train, X_test, y_train, y_test = train_test_split(\n",
    "    X, y, test_size=0.20,random_state=0)"
   ]
  },
  {
   "cell_type": "markdown",
   "metadata": {},
   "source": [
    "## Lasso CV - Find Alpha"
   ]
  },
  {
   "cell_type": "code",
   "execution_count": 283,
   "metadata": {},
   "outputs": [
    {
     "name": "stderr",
     "output_type": "stream",
     "text": [
      "C:\\Users\\jdonv\\anaconda3\\lib\\site-packages\\sklearn\\utils\\validation.py:72: DataConversionWarning: A column-vector y was passed when a 1d array was expected. Please change the shape of y to (n_samples, ), for example using ravel().\n",
      "  return f(**kwargs)\n",
      "C:\\Users\\jdonv\\anaconda3\\lib\\site-packages\\sklearn\\linear_model\\_coordinate_descent.py:527: UserWarning: Coordinate descent with alpha=0 may lead to unexpected results and is discouraged.\n",
      "  tol, rng, random, positive)\n",
      "C:\\Users\\jdonv\\anaconda3\\lib\\site-packages\\sklearn\\linear_model\\_coordinate_descent.py:527: UserWarning: Coordinate descent with alpha=0 may lead to unexpected results and is discouraged.\n",
      "  tol, rng, random, positive)\n",
      "C:\\Users\\jdonv\\anaconda3\\lib\\site-packages\\sklearn\\linear_model\\_coordinate_descent.py:527: UserWarning: Coordinate descent with alpha=0 may lead to unexpected results and is discouraged.\n",
      "  tol, rng, random, positive)\n",
      "C:\\Users\\jdonv\\anaconda3\\lib\\site-packages\\sklearn\\linear_model\\_coordinate_descent.py:527: UserWarning: Coordinate descent with alpha=0 may lead to unexpected results and is discouraged.\n",
      "  tol, rng, random, positive)\n",
      "C:\\Users\\jdonv\\anaconda3\\lib\\site-packages\\sklearn\\linear_model\\_coordinate_descent.py:527: UserWarning: Coordinate descent with alpha=0 may lead to unexpected results and is discouraged.\n",
      "  tol, rng, random, positive)\n",
      "C:\\Users\\jdonv\\anaconda3\\lib\\site-packages\\sklearn\\linear_model\\_coordinate_descent.py:527: UserWarning: Coordinate descent with alpha=0 may lead to unexpected results and is discouraged.\n",
      "  tol, rng, random, positive)\n",
      "C:\\Users\\jdonv\\anaconda3\\lib\\site-packages\\sklearn\\linear_model\\_coordinate_descent.py:527: UserWarning: Coordinate descent with alpha=0 may lead to unexpected results and is discouraged.\n",
      "  tol, rng, random, positive)\n",
      "C:\\Users\\jdonv\\anaconda3\\lib\\site-packages\\sklearn\\linear_model\\_coordinate_descent.py:527: UserWarning: Coordinate descent with alpha=0 may lead to unexpected results and is discouraged.\n",
      "  tol, rng, random, positive)\n",
      "C:\\Users\\jdonv\\anaconda3\\lib\\site-packages\\sklearn\\linear_model\\_coordinate_descent.py:527: UserWarning: Coordinate descent with alpha=0 may lead to unexpected results and is discouraged.\n",
      "  tol, rng, random, positive)\n",
      "C:\\Users\\jdonv\\anaconda3\\lib\\site-packages\\sklearn\\linear_model\\_coordinate_descent.py:527: UserWarning: Coordinate descent with alpha=0 may lead to unexpected results and is discouraged.\n",
      "  tol, rng, random, positive)\n",
      "C:\\Users\\jdonv\\anaconda3\\lib\\site-packages\\sklearn\\linear_model\\_coordinate_descent.py:527: UserWarning: Coordinate descent with alpha=0 may lead to unexpected results and is discouraged.\n",
      "  tol, rng, random, positive)\n",
      "C:\\Users\\jdonv\\anaconda3\\lib\\site-packages\\sklearn\\linear_model\\_coordinate_descent.py:527: UserWarning: Coordinate descent with alpha=0 may lead to unexpected results and is discouraged.\n",
      "  tol, rng, random, positive)\n",
      "C:\\Users\\jdonv\\anaconda3\\lib\\site-packages\\sklearn\\linear_model\\_coordinate_descent.py:527: UserWarning: Coordinate descent with alpha=0 may lead to unexpected results and is discouraged.\n",
      "  tol, rng, random, positive)\n",
      "C:\\Users\\jdonv\\anaconda3\\lib\\site-packages\\sklearn\\linear_model\\_coordinate_descent.py:527: UserWarning: Coordinate descent with alpha=0 may lead to unexpected results and is discouraged.\n",
      "  tol, rng, random, positive)\n",
      "C:\\Users\\jdonv\\anaconda3\\lib\\site-packages\\sklearn\\linear_model\\_coordinate_descent.py:527: UserWarning: Coordinate descent with alpha=0 may lead to unexpected results and is discouraged.\n",
      "  tol, rng, random, positive)\n",
      "C:\\Users\\jdonv\\anaconda3\\lib\\site-packages\\sklearn\\linear_model\\_coordinate_descent.py:527: UserWarning: Coordinate descent with alpha=0 may lead to unexpected results and is discouraged.\n",
      "  tol, rng, random, positive)\n",
      "C:\\Users\\jdonv\\anaconda3\\lib\\site-packages\\sklearn\\linear_model\\_coordinate_descent.py:527: UserWarning: Coordinate descent with alpha=0 may lead to unexpected results and is discouraged.\n",
      "  tol, rng, random, positive)\n",
      "C:\\Users\\jdonv\\anaconda3\\lib\\site-packages\\sklearn\\linear_model\\_coordinate_descent.py:527: UserWarning: Coordinate descent with alpha=0 may lead to unexpected results and is discouraged.\n",
      "  tol, rng, random, positive)\n",
      "C:\\Users\\jdonv\\anaconda3\\lib\\site-packages\\sklearn\\linear_model\\_coordinate_descent.py:527: UserWarning: Coordinate descent with alpha=0 may lead to unexpected results and is discouraged.\n",
      "  tol, rng, random, positive)\n",
      "C:\\Users\\jdonv\\anaconda3\\lib\\site-packages\\sklearn\\linear_model\\_coordinate_descent.py:527: UserWarning: Coordinate descent with alpha=0 may lead to unexpected results and is discouraged.\n",
      "  tol, rng, random, positive)\n",
      "C:\\Users\\jdonv\\anaconda3\\lib\\site-packages\\sklearn\\linear_model\\_coordinate_descent.py:527: UserWarning: Coordinate descent with alpha=0 may lead to unexpected results and is discouraged.\n",
      "  tol, rng, random, positive)\n",
      "C:\\Users\\jdonv\\anaconda3\\lib\\site-packages\\sklearn\\linear_model\\_coordinate_descent.py:527: UserWarning: Coordinate descent with alpha=0 may lead to unexpected results and is discouraged.\n",
      "  tol, rng, random, positive)\n",
      "C:\\Users\\jdonv\\anaconda3\\lib\\site-packages\\sklearn\\linear_model\\_coordinate_descent.py:527: UserWarning: Coordinate descent with alpha=0 may lead to unexpected results and is discouraged.\n",
      "  tol, rng, random, positive)\n",
      "C:\\Users\\jdonv\\anaconda3\\lib\\site-packages\\sklearn\\linear_model\\_coordinate_descent.py:527: UserWarning: Coordinate descent with alpha=0 may lead to unexpected results and is discouraged.\n",
      "  tol, rng, random, positive)\n",
      "C:\\Users\\jdonv\\anaconda3\\lib\\site-packages\\sklearn\\linear_model\\_coordinate_descent.py:527: UserWarning: Coordinate descent with alpha=0 may lead to unexpected results and is discouraged.\n",
      "  tol, rng, random, positive)\n",
      "C:\\Users\\jdonv\\anaconda3\\lib\\site-packages\\sklearn\\linear_model\\_coordinate_descent.py:527: UserWarning: Coordinate descent with alpha=0 may lead to unexpected results and is discouraged.\n",
      "  tol, rng, random, positive)\n",
      "C:\\Users\\jdonv\\anaconda3\\lib\\site-packages\\sklearn\\linear_model\\_coordinate_descent.py:527: UserWarning: Coordinate descent with alpha=0 may lead to unexpected results and is discouraged.\n",
      "  tol, rng, random, positive)\n",
      "C:\\Users\\jdonv\\anaconda3\\lib\\site-packages\\sklearn\\linear_model\\_coordinate_descent.py:527: UserWarning: Coordinate descent with alpha=0 may lead to unexpected results and is discouraged.\n",
      "  tol, rng, random, positive)\n"
     ]
    },
    {
     "data": {
      "text/plain": [
       "Pipeline(steps=[('preprocessor',\n",
       "                 ColumnTransformer(transformers=[('cat',\n",
       "                                                  Pipeline(steps=[('imputer',\n",
       "                                                                   SimpleImputer(strategy='most_frequent')),\n",
       "                                                                  ('onehot',\n",
       "                                                                   OneHotEncoder(handle_unknown='ignore'))]),\n",
       "                                                  ['CAL_TPO_MONTH',\n",
       "                                                   'CAL_WEEK_TYPE', 'SEASON',\n",
       "                                                   'CATEGORY']),\n",
       "                                                 ('num',\n",
       "                                                  Pipeline(steps=[('imputer',\n",
       "                                                                   SimpleImputer(strategy='median'))]),\n",
       "                                                  ['LTO_ALTS', 'LTO_CARBONATED',\n",
       "                                                   'LTO_...\n",
       "       0.44, 0.45, 0.46, 0.47, 0.48, 0.49, 0.5 , 0.51, 0.52, 0.53, 0.54,\n",
       "       0.55, 0.56, 0.57, 0.58, 0.59, 0.6 , 0.61, 0.62, 0.63, 0.64, 0.65,\n",
       "       0.66, 0.67, 0.68, 0.69, 0.7 , 0.71, 0.72, 0.73, 0.74, 0.75, 0.76,\n",
       "       0.77, 0.78, 0.79, 0.8 , 0.81, 0.82, 0.83, 0.84, 0.85, 0.86, 0.87,\n",
       "       0.88, 0.89, 0.9 , 0.91, 0.92, 0.93, 0.94, 0.95, 0.96, 0.97, 0.98,\n",
       "       0.99]),\n",
       "                         cv=RepeatedKFold(n_repeats=3, n_splits=10, random_state=1),\n",
       "                         max_iter=1000000, n_jobs=-1, tol=5000))])"
      ]
     },
     "execution_count": 283,
     "metadata": {},
     "output_type": "execute_result"
    }
   ],
   "source": [
    "cv = RepeatedKFold(n_splits=10, n_repeats=3, random_state=1)\n",
    "clf = LassoCV(alphas=arange(0, 1, 0.01), cv=cv, n_jobs=-1, max_iter = 1000000,tol =5000)\n",
    "\n",
    "model = Pipeline(steps=[('preprocessor', preprocessor),\n",
    "                      ('classifier', clf)])\n",
    "\n",
    "model.fit(X_train, y_train)"
   ]
  },
  {
   "cell_type": "code",
   "execution_count": 284,
   "metadata": {
    "scrolled": true
   },
   "outputs": [
    {
     "name": "stdout",
     "output_type": "stream",
     "text": [
      "alpha: 0.890000\n"
     ]
    }
   ],
   "source": [
    "print('alpha: %f' % model['classifier'].alpha_)"
   ]
  },
  {
   "cell_type": "code",
   "execution_count": 285,
   "metadata": {},
   "outputs": [
    {
     "data": {
      "text/plain": [
       "array(['CAL_TPO_MONTH_1.0', 'CAL_TPO_MONTH_2.0', 'CAL_TPO_MONTH_3.0',\n",
       "       'CAL_TPO_MONTH_4.0', 'CAL_TPO_MONTH_5.0', 'CAL_TPO_MONTH_6.0',\n",
       "       'CAL_TPO_MONTH_7.0', 'CAL_TPO_MONTH_8.0', 'CAL_TPO_MONTH_9.0',\n",
       "       'CAL_TPO_MONTH_10.0', 'CAL_TPO_MONTH_11.0', 'CAL_TPO_MONTH_12.0',\n",
       "       'CAL_WEEK_TYPE_Holiday', 'CAL_WEEK_TYPE_Post-holiday',\n",
       "       'CAL_WEEK_TYPE_Pre-holiday', 'CAL_WEEK_TYPE_Regular',\n",
       "       'SEASON_Fall', 'SEASON_Spring', 'SEASON_Summer', 'SEASON_Winter',\n",
       "       'CATEGORY_ALTERNATIVE BEVERAGES',\n",
       "       'CATEGORY_CARBONATED SOFT DRINKS', 'CATEGORY_ISOTONICS'],\n",
       "      dtype=object)"
      ]
     },
     "execution_count": 285,
     "metadata": {},
     "output_type": "execute_result"
    }
   ],
   "source": [
    "model['preprocessor'].transformers_[0][1]['onehot']\\\n",
    "                   .get_feature_names(categorical_vars)"
   ]
  },
  {
   "cell_type": "code",
   "execution_count": 286,
   "metadata": {},
   "outputs": [],
   "source": [
    "feature_names = ['CAL_TPO_MONTH_1.0', 'CAL_TPO_MONTH_2.0', 'CAL_TPO_MONTH_3.0',\n",
    "                 'CAL_TPO_MONTH_4.0', 'CAL_TPO_MONTH_5.0', 'CAL_TPO_MONTH_6.0', \n",
    "                 'CAL_TPO_MONTH_7.0', 'CAL_TPO_MONTH_8.0', 'CAL_TPO_MONTH_9.0',\n",
    "                 'CAL_TPO_MONTH_10.0', 'CAL_TPO_MONTH_11.0', 'CAL_TPO_MONTH_12.0',\n",
    "                 'CAL_WEEK_TYPE_Holiday', 'CAL_WEEK_TYPE_Post-holiday',\n",
    "                 'CAL_WEEK_TYPE_Pre-holiday', 'CAL_WEEK_TYPE_Regular',\n",
    "                 'SEASON_Fall', 'SEASON_Spring', 'SEASON_Summer', 'SEASON_Winter', 'CATEGORY_ALTERNATIVE BEVERAGES',\n",
    "                 'CATEGORY_CARBONATED SOFT DRINKS', 'CATEGORY_ISOTONICS',\n",
    "                 'LTO_ALTS','LTO_CARBONATED','LTO_ISOS','LTO_FR', 'LTO_VW', 'LTO_AW', 'LTO_BAR', 'LTO_CAN', 'LTO_CDM', 'LTO_COK', 'LTO_FAN', 'LTO_SPR', 'LTO_POW',\n",
    "                 'BN_REGION_ONTARIO','BN_REGION_EAST','BN_REGION_QUEBEC','BN_REGION_WEST',\n",
    "                 'ONTARIO_LTOS','EAST_LTOS','QC_LTOS','WEST_LTOS','LTO_FC_PK','LTO_IC_PK','LTO_CHER','LTO_CRAN','LTO_VAN','LTO_OTH', 'percent_deals','LTO_AVG_WKS',]"
   ]
  },
  {
   "cell_type": "code",
   "execution_count": 287,
   "metadata": {},
   "outputs": [],
   "source": [
    "coeffs = []\n",
    "for i in range(0, len(feature_names)):\n",
    "    coeffs.append((model['classifier'].coef_[i],feature_names[i]))"
   ]
  },
  {
   "cell_type": "code",
   "execution_count": 4,
   "metadata": {},
   "outputs": [],
   "source": [
    "#coeffs"
   ]
  },
  {
   "cell_type": "code",
   "execution_count": 289,
   "metadata": {},
   "outputs": [
    {
     "data": {
      "text/plain": [
       "0.8536482458374289"
      ]
     },
     "execution_count": 289,
     "metadata": {},
     "output_type": "execute_result"
    }
   ],
   "source": [
    "train_score=model.score(X_test,y_test)\n",
    "\n",
    "train_score"
   ]
  },
  {
   "cell_type": "markdown",
   "metadata": {},
   "source": [
    "## Lasso CV - Train/Test Split"
   ]
  },
  {
   "cell_type": "code",
   "execution_count": 290,
   "metadata": {
    "scrolled": false
   },
   "outputs": [
    {
     "name": "stderr",
     "output_type": "stream",
     "text": [
      "C:\\Users\\jdonv\\anaconda3\\lib\\site-packages\\sklearn\\linear_model\\_coordinate_descent.py:531: ConvergenceWarning: Objective did not converge. You might want to increase the number of iterations. Duality gap: 57373170746334.375, tolerance: 306184204201.6733\n",
      "  positive)\n"
     ]
    },
    {
     "data": {
      "text/plain": [
       "Pipeline(steps=[('preprocessor',\n",
       "                 ColumnTransformer(transformers=[('cat',\n",
       "                                                  Pipeline(steps=[('imputer',\n",
       "                                                                   SimpleImputer(strategy='most_frequent')),\n",
       "                                                                  ('onehot',\n",
       "                                                                   OneHotEncoder(handle_unknown='ignore'))]),\n",
       "                                                  ['CAL_TPO_MONTH',\n",
       "                                                   'CAL_WEEK_TYPE', 'SEASON',\n",
       "                                                   'CATEGORY']),\n",
       "                                                 ('num',\n",
       "                                                  Pipeline(steps=[('imputer',\n",
       "                                                                   SimpleImputer(strategy='median'))]),\n",
       "                                                  ['LTO_ALTS', 'LTO_CARBONATED',\n",
       "                                                   'LTO_...\n",
       "                                                   'LTO_VW', 'LTO_AW',\n",
       "                                                   'LTO_BAR', 'LTO_CAN',\n",
       "                                                   'LTO_CDM', 'LTO_COK',\n",
       "                                                   'LTO_FAN', 'LTO_SPR',\n",
       "                                                   'LTO_POW',\n",
       "                                                   'BN_REGION_ONTARIO',\n",
       "                                                   'BN_REGION_EAST',\n",
       "                                                   'BN_REGION_QUEBEC',\n",
       "                                                   'BN_REGION_WEST',\n",
       "                                                   'ONTARIO_LTOS', 'EAST_LTOS',\n",
       "                                                   'QC_LTOS', 'WEST_LTOS',\n",
       "                                                   'LTO_FC_PK', 'LTO_IC_PK',\n",
       "                                                   'LTO_CHER', 'LTO_CRAN',\n",
       "                                                   'LTO_VAN', 'LTO_OTH',\n",
       "                                                   'percent_deals',\n",
       "                                                   'LTO_AVG_WKS'])])),\n",
       "                ('classifier', Lasso(alpha=0.89, max_iter=100000))])"
      ]
     },
     "execution_count": 290,
     "metadata": {},
     "output_type": "execute_result"
    }
   ],
   "source": [
    "lr = Pipeline(steps=[('preprocessor', preprocessor),\n",
    "                      ('classifier', Lasso(max_iter = 100000, alpha=0.89))])\n",
    "\n",
    "lr.fit(X_train, y_train)"
   ]
  },
  {
   "cell_type": "code",
   "execution_count": 291,
   "metadata": {},
   "outputs": [],
   "source": [
    "train_score=lr.score(X_train,y_train)\n",
    "test_score=lr.score(X_test,y_test)\n",
    "coeff_used = np.sum(lr['classifier'].coef_!=0)"
   ]
  },
  {
   "cell_type": "code",
   "execution_count": 292,
   "metadata": {
    "scrolled": true
   },
   "outputs": [
    {
     "name": "stdout",
     "output_type": "stream",
     "text": [
      "0.9012842882417406\n",
      "0.9034154704252428\n",
      "51\n"
     ]
    }
   ],
   "source": [
    "print(train_score)\n",
    "print(test_score)\n",
    "print(coeff_used)"
   ]
  },
  {
   "cell_type": "code",
   "execution_count": 293,
   "metadata": {},
   "outputs": [
    {
     "data": {
      "text/plain": [
       "0.8959624052611156"
      ]
     },
     "execution_count": 293,
     "metadata": {},
     "output_type": "execute_result"
    }
   ],
   "source": [
    "#Adjusted R-squared\n",
    "n = len(X_train)\n",
    "p = coeff_used\n",
    "train_score_adj = 1-((1-train_score)*((n-1)/(n-p-1)))\n",
    "train_score_adj"
   ]
  },
  {
   "cell_type": "code",
   "execution_count": 294,
   "metadata": {},
   "outputs": [],
   "source": [
    "def mape(actual, pred): \n",
    "    actual, pred = np.array(actual), np.array(pred)\n",
    "    return np.mean(np.abs((actual - pred) / actual)) * 100"
   ]
  },
  {
   "cell_type": "code",
   "execution_count": 295,
   "metadata": {},
   "outputs": [
    {
     "name": "stdout",
     "output_type": "stream",
     "text": [
      "MAPE:  954.2818944388005\n",
      "MSE:  577714.5828817701\n"
     ]
    }
   ],
   "source": [
    "#MAPE\n",
    "y_pred = lr.predict(X_test)\n",
    "test_mape=mape(y_test,y_pred)\n",
    "print(\"MAPE: \",test_mape)\n",
    "print(\"MSE: \",mean_squared_error(y_test, y_pred, squared=False))"
   ]
  },
  {
   "cell_type": "code",
   "execution_count": 296,
   "metadata": {},
   "outputs": [],
   "source": [
    "coeffs = []\n",
    "for i in range(0, len(feature_names)):\n",
    "    coeffs.append((lr['classifier'].coef_[i],feature_names[i]))"
   ]
  },
  {
   "cell_type": "markdown",
   "metadata": {},
   "source": [
    "## Retrain Lasso on Entire Data Set"
   ]
  },
  {
   "cell_type": "code",
   "execution_count": 297,
   "metadata": {},
   "outputs": [
    {
     "name": "stderr",
     "output_type": "stream",
     "text": [
      "C:\\Users\\jdonv\\anaconda3\\lib\\site-packages\\sklearn\\linear_model\\_coordinate_descent.py:531: ConvergenceWarning: Objective did not converge. You might want to increase the number of iterations. Duality gap: 11947947834883.188, tolerance: 392872319013.2187\n",
      "  positive)\n"
     ]
    },
    {
     "data": {
      "text/plain": [
       "Pipeline(steps=[('preprocessor',\n",
       "                 ColumnTransformer(transformers=[('cat',\n",
       "                                                  Pipeline(steps=[('imputer',\n",
       "                                                                   SimpleImputer(strategy='most_frequent')),\n",
       "                                                                  ('onehot',\n",
       "                                                                   OneHotEncoder(handle_unknown='ignore'))]),\n",
       "                                                  ['CAL_TPO_MONTH',\n",
       "                                                   'CAL_WEEK_TYPE', 'SEASON',\n",
       "                                                   'CATEGORY']),\n",
       "                                                 ('num',\n",
       "                                                  Pipeline(steps=[('imputer',\n",
       "                                                                   SimpleImputer(strategy='median'))]),\n",
       "                                                  ['LTO_ALTS', 'LTO_CARBONATED',\n",
       "                                                   'LTO_...\n",
       "                                                   'LTO_VW', 'LTO_AW',\n",
       "                                                   'LTO_BAR', 'LTO_CAN',\n",
       "                                                   'LTO_CDM', 'LTO_COK',\n",
       "                                                   'LTO_FAN', 'LTO_SPR',\n",
       "                                                   'LTO_POW',\n",
       "                                                   'BN_REGION_ONTARIO',\n",
       "                                                   'BN_REGION_EAST',\n",
       "                                                   'BN_REGION_QUEBEC',\n",
       "                                                   'BN_REGION_WEST',\n",
       "                                                   'ONTARIO_LTOS', 'EAST_LTOS',\n",
       "                                                   'QC_LTOS', 'WEST_LTOS',\n",
       "                                                   'LTO_FC_PK', 'LTO_IC_PK',\n",
       "                                                   'LTO_CHER', 'LTO_CRAN',\n",
       "                                                   'LTO_VAN', 'LTO_OTH',\n",
       "                                                   'percent_deals',\n",
       "                                                   'LTO_AVG_WKS'])])),\n",
       "                ('classifier', Lasso(alpha=0.89, max_iter=100000))])"
      ]
     },
     "execution_count": 297,
     "metadata": {},
     "output_type": "execute_result"
    }
   ],
   "source": [
    "lr.fit(X, y)"
   ]
  },
  {
   "cell_type": "code",
   "execution_count": 298,
   "metadata": {},
   "outputs": [],
   "source": [
    "coeff_used = np.sum(lr['classifier'].coef_!=0)"
   ]
  },
  {
   "cell_type": "code",
   "execution_count": 299,
   "metadata": {},
   "outputs": [],
   "source": [
    "coeffs = []\n",
    "for i in range(0, len(feature_names)):\n",
    "    coeffs.append((lr['classifier'].coef_[i],feature_names[i]))"
   ]
  },
  {
   "cell_type": "code",
   "execution_count": 5,
   "metadata": {
    "scrolled": true
   },
   "outputs": [],
   "source": [
    "#coeffs"
   ]
  },
  {
   "cell_type": "code",
   "execution_count": 301,
   "metadata": {},
   "outputs": [
    {
     "data": {
      "text/plain": [
       "array([748608.4401989])"
      ]
     },
     "execution_count": 301,
     "metadata": {},
     "output_type": "execute_result"
    }
   ],
   "source": [
    "lr['classifier'].intercept_"
   ]
  },
  {
   "cell_type": "code",
   "execution_count": 302,
   "metadata": {},
   "outputs": [
    {
     "name": "stdout",
     "output_type": "stream",
     "text": [
      "R^2:  0.9027020838057613\n"
     ]
    }
   ],
   "source": [
    "print(\"R^2: \",lr.score(X,y))"
   ]
  },
  {
   "cell_type": "code",
   "execution_count": 309,
   "metadata": {},
   "outputs": [],
   "source": [
    "#Output coefficients to Excel\n",
    "pd.DataFrame(coeffs, columns=['coefficients', 'features']).to_excel(\"Model_Results_Dec11-flv.xlsx\")"
   ]
  },
  {
   "cell_type": "code",
   "execution_count": 311,
   "metadata": {},
   "outputs": [],
   "source": [
    "#For Error analysis\n",
    "#y_pred_all = lr.predict(X)\n",
    "#pd.DataFrame(y_pred_all).to_csv(\"y_pred_all.csv\")\n",
    "#pd.DataFrame(X).to_csv('X.csv')\n",
    "df.to_excel('Output-Flavours.xlsx')"
   ]
  }
 ],
 "metadata": {
  "kernelspec": {
   "display_name": "Python 3",
   "language": "python",
   "name": "python3"
  },
  "language_info": {
   "codemirror_mode": {
    "name": "ipython",
    "version": 3
   },
   "file_extension": ".py",
   "mimetype": "text/x-python",
   "name": "python",
   "nbconvert_exporter": "python",
   "pygments_lexer": "ipython3",
   "version": "3.7.6"
  },
  "toc": {
   "base_numbering": 1,
   "nav_menu": {},
   "number_sections": true,
   "sideBar": true,
   "skip_h1_title": false,
   "title_cell": "Table of Contents",
   "title_sidebar": "Contents",
   "toc_cell": false,
   "toc_position": {},
   "toc_section_display": true,
   "toc_window_display": true
  }
 },
 "nbformat": 4,
 "nbformat_minor": 4
}
